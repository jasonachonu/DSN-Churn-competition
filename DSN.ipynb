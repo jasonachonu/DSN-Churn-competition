{
 "cells": [
  {
   "cell_type": "code",
   "execution_count": 2,
   "metadata": {
    "collapsed": true
   },
   "outputs": [],
   "source": [
    "import pandas as pd\n",
    "import numpy as np\n",
    "import matplotlib.pyplot as plt"
   ]
  },
  {
   "cell_type": "code",
   "execution_count": 3,
   "metadata": {
    "collapsed": true
   },
   "outputs": [],
   "source": [
    "train = pd.read_csv('TRAIN.csv')"
   ]
  },
  {
   "cell_type": "code",
   "execution_count": 4,
   "metadata": {},
   "outputs": [
    {
     "data": {
      "text/html": [
       "<div>\n",
       "<style>\n",
       "    .dataframe thead tr:only-child th {\n",
       "        text-align: right;\n",
       "    }\n",
       "\n",
       "    .dataframe thead th {\n",
       "        text-align: left;\n",
       "    }\n",
       "\n",
       "    .dataframe tbody tr th {\n",
       "        vertical-align: top;\n",
       "    }\n",
       "</style>\n",
       "<table border=\"1\" class=\"dataframe\">\n",
       "  <thead>\n",
       "    <tr style=\"text-align: right;\">\n",
       "      <th></th>\n",
       "      <th>Customer ID</th>\n",
       "      <th>network_age</th>\n",
       "      <th>Customer tenure in month</th>\n",
       "      <th>Total Spend in Months 1 and 2 of 2017</th>\n",
       "      <th>Total SMS Spend</th>\n",
       "      <th>Total Data Spend</th>\n",
       "      <th>Total Data Consumption</th>\n",
       "      <th>Total Unique Calls</th>\n",
       "      <th>Total Onnet spend</th>\n",
       "      <th>Total Offnet spend</th>\n",
       "      <th>Total Call centre complaint calls</th>\n",
       "      <th>Network type subscription in Month 1</th>\n",
       "      <th>Network type subscription in Month 2</th>\n",
       "      <th>Most Loved Competitor network in in Month 1</th>\n",
       "      <th>Most Loved Competitor network in in Month 2</th>\n",
       "      <th>Churn Status</th>\n",
       "    </tr>\n",
       "  </thead>\n",
       "  <tbody>\n",
       "    <tr>\n",
       "      <th>0</th>\n",
       "      <td>ADF0039</td>\n",
       "      <td>123.0</td>\n",
       "      <td>4.10</td>\n",
       "      <td>76.7140</td>\n",
       "      <td>0.00</td>\n",
       "      <td>1.25</td>\n",
       "      <td>1.4951</td>\n",
       "      <td>14.0</td>\n",
       "      <td>564.0</td>\n",
       "      <td>6408.0</td>\n",
       "      <td>2.0</td>\n",
       "      <td>2G</td>\n",
       "      <td>2G</td>\n",
       "      <td>Uxaa</td>\n",
       "      <td>Mango</td>\n",
       "      <td>0.0</td>\n",
       "    </tr>\n",
       "    <tr>\n",
       "      <th>1</th>\n",
       "      <td>ADF0041</td>\n",
       "      <td>1316.0</td>\n",
       "      <td>43.87</td>\n",
       "      <td>98.8904</td>\n",
       "      <td>4.14</td>\n",
       "      <td>1.25</td>\n",
       "      <td>1.0244</td>\n",
       "      <td>27.0</td>\n",
       "      <td>1626.0</td>\n",
       "      <td>4373.0</td>\n",
       "      <td>1.0</td>\n",
       "      <td>2G</td>\n",
       "      <td>2G</td>\n",
       "      <td>Uxaa</td>\n",
       "      <td>Mango</td>\n",
       "      <td>0.0</td>\n",
       "    </tr>\n",
       "    <tr>\n",
       "      <th>2</th>\n",
       "      <td>ADF0051</td>\n",
       "      <td>2385.0</td>\n",
       "      <td>79.50</td>\n",
       "      <td>372.6300</td>\n",
       "      <td>3.51</td>\n",
       "      <td>1.25</td>\n",
       "      <td>6.0898</td>\n",
       "      <td>119.0</td>\n",
       "      <td>10411.0</td>\n",
       "      <td>22039.0</td>\n",
       "      <td>1.0</td>\n",
       "      <td>2G</td>\n",
       "      <td>2G</td>\n",
       "      <td>Weematel</td>\n",
       "      <td>Mango</td>\n",
       "      <td>0.0</td>\n",
       "    </tr>\n",
       "    <tr>\n",
       "      <th>3</th>\n",
       "      <td>ADF0059</td>\n",
       "      <td>1614.0</td>\n",
       "      <td>53.80</td>\n",
       "      <td>530.2000</td>\n",
       "      <td>6.85</td>\n",
       "      <td>1.25</td>\n",
       "      <td>3.3447</td>\n",
       "      <td>69.0</td>\n",
       "      <td>6822.0</td>\n",
       "      <td>6274.0</td>\n",
       "      <td>1.0</td>\n",
       "      <td>2G</td>\n",
       "      <td>2G</td>\n",
       "      <td>0</td>\n",
       "      <td>Mango</td>\n",
       "      <td>0.0</td>\n",
       "    </tr>\n",
       "    <tr>\n",
       "      <th>4</th>\n",
       "      <td>ADF0060</td>\n",
       "      <td>2175.0</td>\n",
       "      <td>72.50</td>\n",
       "      <td>554.1300</td>\n",
       "      <td>6.99</td>\n",
       "      <td>153.75</td>\n",
       "      <td>673204.0342</td>\n",
       "      <td>33.0</td>\n",
       "      <td>3387.0</td>\n",
       "      <td>7241.0</td>\n",
       "      <td>1.0</td>\n",
       "      <td>2G</td>\n",
       "      <td>3G</td>\n",
       "      <td>Weematel</td>\n",
       "      <td>Mango</td>\n",
       "      <td>0.0</td>\n",
       "    </tr>\n",
       "  </tbody>\n",
       "</table>\n",
       "</div>"
      ],
      "text/plain": [
       "  Customer ID  network_age  Customer tenure in month  \\\n",
       "0     ADF0039        123.0                      4.10   \n",
       "1     ADF0041       1316.0                     43.87   \n",
       "2     ADF0051       2385.0                     79.50   \n",
       "3     ADF0059       1614.0                     53.80   \n",
       "4     ADF0060       2175.0                     72.50   \n",
       "\n",
       "   Total Spend in Months 1 and 2 of 2017  Total SMS Spend  Total Data Spend  \\\n",
       "0                                76.7140             0.00              1.25   \n",
       "1                                98.8904             4.14              1.25   \n",
       "2                               372.6300             3.51              1.25   \n",
       "3                               530.2000             6.85              1.25   \n",
       "4                               554.1300             6.99            153.75   \n",
       "\n",
       "   Total Data Consumption  Total Unique Calls  Total Onnet spend   \\\n",
       "0                  1.4951                14.0               564.0   \n",
       "1                  1.0244                27.0              1626.0   \n",
       "2                  6.0898               119.0             10411.0   \n",
       "3                  3.3447                69.0              6822.0   \n",
       "4             673204.0342                33.0              3387.0   \n",
       "\n",
       "   Total Offnet spend  Total Call centre complaint calls  \\\n",
       "0              6408.0                                2.0   \n",
       "1              4373.0                                1.0   \n",
       "2             22039.0                                1.0   \n",
       "3              6274.0                                1.0   \n",
       "4              7241.0                                1.0   \n",
       "\n",
       "  Network type subscription in Month 1 Network type subscription in Month 2  \\\n",
       "0                                   2G                                   2G   \n",
       "1                                   2G                                   2G   \n",
       "2                                   2G                                   2G   \n",
       "3                                   2G                                   2G   \n",
       "4                                   2G                                   3G   \n",
       "\n",
       "  Most Loved Competitor network in in Month 1  \\\n",
       "0                                        Uxaa   \n",
       "1                                        Uxaa   \n",
       "2                                    Weematel   \n",
       "3                                           0   \n",
       "4                                    Weematel   \n",
       "\n",
       "  Most Loved Competitor network in in Month 2  Churn Status  \n",
       "0                                       Mango           0.0  \n",
       "1                                       Mango           0.0  \n",
       "2                                       Mango           0.0  \n",
       "3                                       Mango           0.0  \n",
       "4                                       Mango           0.0  "
      ]
     },
     "execution_count": 4,
     "metadata": {},
     "output_type": "execute_result"
    }
   ],
   "source": [
    "train.head()"
   ]
  },
  {
   "cell_type": "code",
   "execution_count": 5,
   "metadata": {},
   "outputs": [
    {
     "data": {
      "text/html": [
       "<div>\n",
       "<style>\n",
       "    .dataframe thead tr:only-child th {\n",
       "        text-align: right;\n",
       "    }\n",
       "\n",
       "    .dataframe thead th {\n",
       "        text-align: left;\n",
       "    }\n",
       "\n",
       "    .dataframe tbody tr th {\n",
       "        vertical-align: top;\n",
       "    }\n",
       "</style>\n",
       "<table border=\"1\" class=\"dataframe\">\n",
       "  <thead>\n",
       "    <tr style=\"text-align: right;\">\n",
       "      <th></th>\n",
       "      <th>Customer ID</th>\n",
       "      <th>network_age</th>\n",
       "      <th>Customer tenure in month</th>\n",
       "      <th>Total Spend in Months 1 and 2 of 2017</th>\n",
       "      <th>Total SMS Spend</th>\n",
       "      <th>Total Data Spend</th>\n",
       "      <th>Total Data Consumption</th>\n",
       "      <th>Total Unique Calls</th>\n",
       "      <th>Total Onnet spend</th>\n",
       "      <th>Total Offnet spend</th>\n",
       "      <th>Total Call centre complaint calls</th>\n",
       "      <th>Network type subscription in Month 1</th>\n",
       "      <th>Network type subscription in Month 2</th>\n",
       "      <th>Most Loved Competitor network in in Month 1</th>\n",
       "      <th>Most Loved Competitor network in in Month 2</th>\n",
       "      <th>Churn Status</th>\n",
       "    </tr>\n",
       "  </thead>\n",
       "  <tbody>\n",
       "    <tr>\n",
       "      <th>1396</th>\n",
       "      <td>ADF1965</td>\n",
       "      <td>1795.0</td>\n",
       "      <td>59.83</td>\n",
       "      <td>1024.8460</td>\n",
       "      <td>111.99</td>\n",
       "      <td>10.00</td>\n",
       "      <td>493671.9863</td>\n",
       "      <td>149.0</td>\n",
       "      <td>18202.0</td>\n",
       "      <td>40730.0</td>\n",
       "      <td>2.0</td>\n",
       "      <td>NaN</td>\n",
       "      <td>NaN</td>\n",
       "      <td>Mango</td>\n",
       "      <td>Zintel</td>\n",
       "      <td>0.0</td>\n",
       "    </tr>\n",
       "    <tr>\n",
       "      <th>1397</th>\n",
       "      <td>ADF1967</td>\n",
       "      <td>203.0</td>\n",
       "      <td>6.77</td>\n",
       "      <td>1143.4972</td>\n",
       "      <td>19.84</td>\n",
       "      <td>13.75</td>\n",
       "      <td>261.9307</td>\n",
       "      <td>284.0</td>\n",
       "      <td>360.0</td>\n",
       "      <td>81341.0</td>\n",
       "      <td>3.0</td>\n",
       "      <td>NaN</td>\n",
       "      <td>NaN</td>\n",
       "      <td>Zintel</td>\n",
       "      <td>Zintel</td>\n",
       "      <td>0.0</td>\n",
       "    </tr>\n",
       "    <tr>\n",
       "      <th>1398</th>\n",
       "      <td>ADF1971</td>\n",
       "      <td>109.0</td>\n",
       "      <td>3.63</td>\n",
       "      <td>45.0900</td>\n",
       "      <td>0.00</td>\n",
       "      <td>0.00</td>\n",
       "      <td>658162.2734</td>\n",
       "      <td>20.0</td>\n",
       "      <td>240.0</td>\n",
       "      <td>3611.0</td>\n",
       "      <td>1.0</td>\n",
       "      <td>NaN</td>\n",
       "      <td>3G</td>\n",
       "      <td>Uxaa</td>\n",
       "      <td>Zintel</td>\n",
       "      <td>1.0</td>\n",
       "    </tr>\n",
       "    <tr>\n",
       "      <th>1399</th>\n",
       "      <td>ADF1982</td>\n",
       "      <td>904.0</td>\n",
       "      <td>30.13</td>\n",
       "      <td>161.1300</td>\n",
       "      <td>0.00</td>\n",
       "      <td>17.50</td>\n",
       "      <td>45187.7549</td>\n",
       "      <td>57.0</td>\n",
       "      <td>1728.0</td>\n",
       "      <td>10529.0</td>\n",
       "      <td>1.0</td>\n",
       "      <td>NaN</td>\n",
       "      <td>NaN</td>\n",
       "      <td>ToCall</td>\n",
       "      <td>Zintel</td>\n",
       "      <td>1.0</td>\n",
       "    </tr>\n",
       "    <tr>\n",
       "      <th>1400</th>\n",
       "      <td>NaN</td>\n",
       "      <td>NaN</td>\n",
       "      <td>NaN</td>\n",
       "      <td>NaN</td>\n",
       "      <td>NaN</td>\n",
       "      <td>NaN</td>\n",
       "      <td>NaN</td>\n",
       "      <td>NaN</td>\n",
       "      <td>NaN</td>\n",
       "      <td>NaN</td>\n",
       "      <td>NaN</td>\n",
       "      <td>NaN</td>\n",
       "      <td>NaN</td>\n",
       "      <td>NaN</td>\n",
       "      <td>NaN</td>\n",
       "      <td>NaN</td>\n",
       "    </tr>\n",
       "  </tbody>\n",
       "</table>\n",
       "</div>"
      ],
      "text/plain": [
       "     Customer ID  network_age  Customer tenure in month  \\\n",
       "1396     ADF1965       1795.0                     59.83   \n",
       "1397     ADF1967        203.0                      6.77   \n",
       "1398     ADF1971        109.0                      3.63   \n",
       "1399     ADF1982        904.0                     30.13   \n",
       "1400         NaN          NaN                       NaN   \n",
       "\n",
       "      Total Spend in Months 1 and 2 of 2017  Total SMS Spend  \\\n",
       "1396                              1024.8460           111.99   \n",
       "1397                              1143.4972            19.84   \n",
       "1398                                45.0900             0.00   \n",
       "1399                               161.1300             0.00   \n",
       "1400                                    NaN              NaN   \n",
       "\n",
       "      Total Data Spend  Total Data Consumption  Total Unique Calls  \\\n",
       "1396             10.00             493671.9863               149.0   \n",
       "1397             13.75                261.9307               284.0   \n",
       "1398              0.00             658162.2734                20.0   \n",
       "1399             17.50              45187.7549                57.0   \n",
       "1400               NaN                     NaN                 NaN   \n",
       "\n",
       "      Total Onnet spend   Total Offnet spend  \\\n",
       "1396             18202.0             40730.0   \n",
       "1397               360.0             81341.0   \n",
       "1398               240.0              3611.0   \n",
       "1399              1728.0             10529.0   \n",
       "1400                 NaN                 NaN   \n",
       "\n",
       "      Total Call centre complaint calls Network type subscription in Month 1  \\\n",
       "1396                                2.0                                  NaN   \n",
       "1397                                3.0                                  NaN   \n",
       "1398                                1.0                                  NaN   \n",
       "1399                                1.0                                  NaN   \n",
       "1400                                NaN                                  NaN   \n",
       "\n",
       "     Network type subscription in Month 2  \\\n",
       "1396                                  NaN   \n",
       "1397                                  NaN   \n",
       "1398                                   3G   \n",
       "1399                                  NaN   \n",
       "1400                                  NaN   \n",
       "\n",
       "     Most Loved Competitor network in in Month 1  \\\n",
       "1396                                       Mango   \n",
       "1397                                      Zintel   \n",
       "1398                                        Uxaa   \n",
       "1399                                      ToCall   \n",
       "1400                                         NaN   \n",
       "\n",
       "     Most Loved Competitor network in in Month 2  Churn Status  \n",
       "1396                                      Zintel           0.0  \n",
       "1397                                      Zintel           0.0  \n",
       "1398                                      Zintel           1.0  \n",
       "1399                                      Zintel           1.0  \n",
       "1400                                         NaN           NaN  "
      ]
     },
     "execution_count": 5,
     "metadata": {},
     "output_type": "execute_result"
    }
   ],
   "source": [
    "train.tail()"
   ]
  },
  {
   "cell_type": "code",
   "execution_count": 5,
   "metadata": {
    "collapsed": true
   },
   "outputs": [],
   "source": [
    "train = train.drop([1400])"
   ]
  },
  {
   "cell_type": "code",
   "execution_count": 6,
   "metadata": {
    "collapsed": true
   },
   "outputs": [],
   "source": [
    "df = pd.DataFrame(np.array([[1, 1], [2, 10], [3, 100], [4, 100]]),\n",
    "                   columns=['a', 'b'])\n"
   ]
  },
  {
   "cell_type": "code",
   "execution_count": 7,
   "metadata": {
    "collapsed": true
   },
   "outputs": [],
   "source": [
    "train['Network type subscription in Month 1'] = train['Network type subscription in Month 1'].astype(str)\n",
    "train['Network type subscription in Month 2'] = train['Network type subscription in Month 2'].astype(str)\n",
    "\n",
    "train['Most Loved Competitor network in in Month 1'] = train['Most Loved Competitor network in in Month 1'].astype(str)\n",
    "train['Most Loved Competitor network in in Month 2'] = train['Most Loved Competitor network in in Month 2'].astype(str)"
   ]
  },
  {
   "cell_type": "code",
   "execution_count": 8,
   "metadata": {
    "collapsed": true
   },
   "outputs": [],
   "source": [
    "#replace nan values\n",
    "\n",
    "train = train.replace({'Network type subscription in Month 1': {'nan': '3G'}}) "
   ]
  },
  {
   "cell_type": "code",
   "execution_count": 9,
   "metadata": {
    "collapsed": true
   },
   "outputs": [],
   "source": [
    "train = train.replace({'Network type subscription in Month 2': {'nan': '3G'}}) "
   ]
  },
  {
   "cell_type": "code",
   "execution_count": 10,
   "metadata": {
    "collapsed": true
   },
   "outputs": [],
   "source": [
    "train = train.replace({'Most Loved Competitor network in in Month 1': {'0': 'PQza'}}) "
   ]
  },
  {
   "cell_type": "code",
   "execution_count": 11,
   "metadata": {
    "collapsed": true
   },
   "outputs": [],
   "source": [
    "train = train.replace({'Most Loved Competitor network in in Month 1': {'nan': 'PQza'}}) "
   ]
  },
  {
   "cell_type": "code",
   "execution_count": 12,
   "metadata": {
    "collapsed": true
   },
   "outputs": [],
   "source": [
    "train = train.replace({'Most Loved Competitor network in in Month 2': {'nan': 'Uxaa'}}) "
   ]
  },
  {
   "cell_type": "code",
   "execution_count": 13,
   "metadata": {
    "collapsed": true
   },
   "outputs": [],
   "source": [
    "#train = train.replace({'Most Loved Competitor network in in Month 2': {'0': 'PQza'}}) "
   ]
  },
  {
   "cell_type": "code",
   "execution_count": 14,
   "metadata": {},
   "outputs": [
    {
     "data": {
      "image/png": "[encoded data removed]",
      "text/plain": [
       "<matplotlib.figure.Figure at 0x10f235f98>"
      ]
     },
     "metadata": {},
     "output_type": "display_data"
    }
   ],
   "source": [
    "train['Network type subscription in Month 2'].hist()\n",
    "plt.show()"
   ]
  },
  {
   "cell_type": "code",
   "execution_count": 15,
   "metadata": {},
   "outputs": [
    {
     "data": {
      "image/png": "[encoded data removed]",
      "text/plain": [
       "<matplotlib.figure.Figure at 0x10f25e390>"
      ]
     },
     "metadata": {},
     "output_type": "display_data"
    }
   ],
   "source": [
    "train['Most Loved Competitor network in in Month 1'].hist()\n",
    "plt.show()"
   ]
  },
  {
   "cell_type": "code",
   "execution_count": 16,
   "metadata": {
    "collapsed": true
   },
   "outputs": [],
   "source": [
    "##LIST\n",
    "\n",
    "#multicollinearity\n",
    "#new features"
   ]
  },
  {
   "cell_type": "code",
   "execution_count": 17,
   "metadata": {},
   "outputs": [
    {
     "data": {
      "text/html": [
       "<div>\n",
       "<style>\n",
       "    .dataframe thead tr:only-child th {\n",
       "        text-align: right;\n",
       "    }\n",
       "\n",
       "    .dataframe thead th {\n",
       "        text-align: left;\n",
       "    }\n",
       "\n",
       "    .dataframe tbody tr th {\n",
       "        vertical-align: top;\n",
       "    }\n",
       "</style>\n",
       "<table border=\"1\" class=\"dataframe\">\n",
       "  <thead>\n",
       "    <tr style=\"text-align: right;\">\n",
       "      <th></th>\n",
       "      <th>Customer ID</th>\n",
       "      <th>network_age</th>\n",
       "      <th>Customer tenure in month</th>\n",
       "      <th>Total Spend in Months 1 and 2 of 2017</th>\n",
       "      <th>Total SMS Spend</th>\n",
       "      <th>Total Data Spend</th>\n",
       "      <th>Total Data Consumption</th>\n",
       "      <th>Total Unique Calls</th>\n",
       "      <th>Total Onnet spend</th>\n",
       "      <th>Total Offnet spend</th>\n",
       "      <th>Total Call centre complaint calls</th>\n",
       "      <th>Network type subscription in Month 1</th>\n",
       "      <th>Network type subscription in Month 2</th>\n",
       "      <th>Most Loved Competitor network in in Month 1</th>\n",
       "      <th>Most Loved Competitor network in in Month 2</th>\n",
       "      <th>Churn Status</th>\n",
       "    </tr>\n",
       "  </thead>\n",
       "  <tbody>\n",
       "    <tr>\n",
       "      <th>0</th>\n",
       "      <td>ADF0039</td>\n",
       "      <td>123.0</td>\n",
       "      <td>4.10</td>\n",
       "      <td>76.7140</td>\n",
       "      <td>0.00</td>\n",
       "      <td>1.25</td>\n",
       "      <td>1.4951</td>\n",
       "      <td>14.0</td>\n",
       "      <td>564.0</td>\n",
       "      <td>6408.0</td>\n",
       "      <td>2.0</td>\n",
       "      <td>2G</td>\n",
       "      <td>2G</td>\n",
       "      <td>Uxaa</td>\n",
       "      <td>Mango</td>\n",
       "      <td>0.0</td>\n",
       "    </tr>\n",
       "    <tr>\n",
       "      <th>1</th>\n",
       "      <td>ADF0041</td>\n",
       "      <td>1316.0</td>\n",
       "      <td>43.87</td>\n",
       "      <td>98.8904</td>\n",
       "      <td>4.14</td>\n",
       "      <td>1.25</td>\n",
       "      <td>1.0244</td>\n",
       "      <td>27.0</td>\n",
       "      <td>1626.0</td>\n",
       "      <td>4373.0</td>\n",
       "      <td>1.0</td>\n",
       "      <td>2G</td>\n",
       "      <td>2G</td>\n",
       "      <td>Uxaa</td>\n",
       "      <td>Mango</td>\n",
       "      <td>0.0</td>\n",
       "    </tr>\n",
       "    <tr>\n",
       "      <th>2</th>\n",
       "      <td>ADF0051</td>\n",
       "      <td>2385.0</td>\n",
       "      <td>79.50</td>\n",
       "      <td>372.6300</td>\n",
       "      <td>3.51</td>\n",
       "      <td>1.25</td>\n",
       "      <td>6.0898</td>\n",
       "      <td>119.0</td>\n",
       "      <td>10411.0</td>\n",
       "      <td>22039.0</td>\n",
       "      <td>1.0</td>\n",
       "      <td>2G</td>\n",
       "      <td>2G</td>\n",
       "      <td>Weematel</td>\n",
       "      <td>Mango</td>\n",
       "      <td>0.0</td>\n",
       "    </tr>\n",
       "    <tr>\n",
       "      <th>3</th>\n",
       "      <td>ADF0059</td>\n",
       "      <td>1614.0</td>\n",
       "      <td>53.80</td>\n",
       "      <td>530.2000</td>\n",
       "      <td>6.85</td>\n",
       "      <td>1.25</td>\n",
       "      <td>3.3447</td>\n",
       "      <td>69.0</td>\n",
       "      <td>6822.0</td>\n",
       "      <td>6274.0</td>\n",
       "      <td>1.0</td>\n",
       "      <td>2G</td>\n",
       "      <td>2G</td>\n",
       "      <td>PQza</td>\n",
       "      <td>Mango</td>\n",
       "      <td>0.0</td>\n",
       "    </tr>\n",
       "    <tr>\n",
       "      <th>4</th>\n",
       "      <td>ADF0060</td>\n",
       "      <td>2175.0</td>\n",
       "      <td>72.50</td>\n",
       "      <td>554.1300</td>\n",
       "      <td>6.99</td>\n",
       "      <td>153.75</td>\n",
       "      <td>673204.0342</td>\n",
       "      <td>33.0</td>\n",
       "      <td>3387.0</td>\n",
       "      <td>7241.0</td>\n",
       "      <td>1.0</td>\n",
       "      <td>2G</td>\n",
       "      <td>3G</td>\n",
       "      <td>Weematel</td>\n",
       "      <td>Mango</td>\n",
       "      <td>0.0</td>\n",
       "    </tr>\n",
       "  </tbody>\n",
       "</table>\n",
       "</div>"
      ],
      "text/plain": [
       "  Customer ID  network_age  Customer tenure in month  \\\n",
       "0     ADF0039        123.0                      4.10   \n",
       "1     ADF0041       1316.0                     43.87   \n",
       "2     ADF0051       2385.0                     79.50   \n",
       "3     ADF0059       1614.0                     53.80   \n",
       "4     ADF0060       2175.0                     72.50   \n",
       "\n",
       "   Total Spend in Months 1 and 2 of 2017  Total SMS Spend  Total Data Spend  \\\n",
       "0                                76.7140             0.00              1.25   \n",
       "1                                98.8904             4.14              1.25   \n",
       "2                               372.6300             3.51              1.25   \n",
       "3                               530.2000             6.85              1.25   \n",
       "4                               554.1300             6.99            153.75   \n",
       "\n",
       "   Total Data Consumption  Total Unique Calls  Total Onnet spend   \\\n",
       "0                  1.4951                14.0               564.0   \n",
       "1                  1.0244                27.0              1626.0   \n",
       "2                  6.0898               119.0             10411.0   \n",
       "3                  3.3447                69.0              6822.0   \n",
       "4             673204.0342                33.0              3387.0   \n",
       "\n",
       "   Total Offnet spend  Total Call centre complaint calls  \\\n",
       "0              6408.0                                2.0   \n",
       "1              4373.0                                1.0   \n",
       "2             22039.0                                1.0   \n",
       "3              6274.0                                1.0   \n",
       "4              7241.0                                1.0   \n",
       "\n",
       "  Network type subscription in Month 1 Network type subscription in Month 2  \\\n",
       "0                                   2G                                   2G   \n",
       "1                                   2G                                   2G   \n",
       "2                                   2G                                   2G   \n",
       "3                                   2G                                   2G   \n",
       "4                                   2G                                   3G   \n",
       "\n",
       "  Most Loved Competitor network in in Month 1  \\\n",
       "0                                        Uxaa   \n",
       "1                                        Uxaa   \n",
       "2                                    Weematel   \n",
       "3                                        PQza   \n",
       "4                                    Weematel   \n",
       "\n",
       "  Most Loved Competitor network in in Month 2  Churn Status  \n",
       "0                                       Mango           0.0  \n",
       "1                                       Mango           0.0  \n",
       "2                                       Mango           0.0  \n",
       "3                                       Mango           0.0  \n",
       "4                                       Mango           0.0  "
      ]
     },
     "execution_count": 17,
     "metadata": {},
     "output_type": "execute_result"
    }
   ],
   "source": [
    "train.head()"
   ]
  },
  {
   "cell_type": "code",
   "execution_count": 18,
   "metadata": {
    "collapsed": true
   },
   "outputs": [],
   "source": [
    "train['Churn Status'] = train['Churn Status'].astype(int)"
   ]
  },
  {
   "cell_type": "code",
   "execution_count": 19,
   "metadata": {
    "collapsed": true
   },
   "outputs": [],
   "source": [
    "train = train.drop(['Customer ID','Customer tenure in month'], axis=1)"
   ]
  },
  {
   "cell_type": "code",
   "execution_count": 20,
   "metadata": {},
   "outputs": [
    {
     "data": {
      "text/html": [
       "<div>\n",
       "<style>\n",
       "    .dataframe thead tr:only-child th {\n",
       "        text-align: right;\n",
       "    }\n",
       "\n",
       "    .dataframe thead th {\n",
       "        text-align: left;\n",
       "    }\n",
       "\n",
       "    .dataframe tbody tr th {\n",
       "        vertical-align: top;\n",
       "    }\n",
       "</style>\n",
       "<table border=\"1\" class=\"dataframe\">\n",
       "  <thead>\n",
       "    <tr style=\"text-align: right;\">\n",
       "      <th></th>\n",
       "      <th>network_age</th>\n",
       "      <th>Total Spend in Months 1 and 2 of 2017</th>\n",
       "      <th>Total SMS Spend</th>\n",
       "      <th>Total Data Spend</th>\n",
       "      <th>Total Data Consumption</th>\n",
       "      <th>Total Unique Calls</th>\n",
       "      <th>Total Onnet spend</th>\n",
       "      <th>Total Offnet spend</th>\n",
       "      <th>Total Call centre complaint calls</th>\n",
       "      <th>Network type subscription in Month 1</th>\n",
       "      <th>Network type subscription in Month 2</th>\n",
       "      <th>Most Loved Competitor network in in Month 1</th>\n",
       "      <th>Most Loved Competitor network in in Month 2</th>\n",
       "      <th>Churn Status</th>\n",
       "    </tr>\n",
       "  </thead>\n",
       "  <tbody>\n",
       "    <tr>\n",
       "      <th>0</th>\n",
       "      <td>123.0</td>\n",
       "      <td>76.7140</td>\n",
       "      <td>0.00</td>\n",
       "      <td>1.25</td>\n",
       "      <td>1.4951</td>\n",
       "      <td>14.0</td>\n",
       "      <td>564.0</td>\n",
       "      <td>6408.0</td>\n",
       "      <td>2.0</td>\n",
       "      <td>2G</td>\n",
       "      <td>2G</td>\n",
       "      <td>Uxaa</td>\n",
       "      <td>Mango</td>\n",
       "      <td>0</td>\n",
       "    </tr>\n",
       "    <tr>\n",
       "      <th>1</th>\n",
       "      <td>1316.0</td>\n",
       "      <td>98.8904</td>\n",
       "      <td>4.14</td>\n",
       "      <td>1.25</td>\n",
       "      <td>1.0244</td>\n",
       "      <td>27.0</td>\n",
       "      <td>1626.0</td>\n",
       "      <td>4373.0</td>\n",
       "      <td>1.0</td>\n",
       "      <td>2G</td>\n",
       "      <td>2G</td>\n",
       "      <td>Uxaa</td>\n",
       "      <td>Mango</td>\n",
       "      <td>0</td>\n",
       "    </tr>\n",
       "    <tr>\n",
       "      <th>2</th>\n",
       "      <td>2385.0</td>\n",
       "      <td>372.6300</td>\n",
       "      <td>3.51</td>\n",
       "      <td>1.25</td>\n",
       "      <td>6.0898</td>\n",
       "      <td>119.0</td>\n",
       "      <td>10411.0</td>\n",
       "      <td>22039.0</td>\n",
       "      <td>1.0</td>\n",
       "      <td>2G</td>\n",
       "      <td>2G</td>\n",
       "      <td>Weematel</td>\n",
       "      <td>Mango</td>\n",
       "      <td>0</td>\n",
       "    </tr>\n",
       "    <tr>\n",
       "      <th>3</th>\n",
       "      <td>1614.0</td>\n",
       "      <td>530.2000</td>\n",
       "      <td>6.85</td>\n",
       "      <td>1.25</td>\n",
       "      <td>3.3447</td>\n",
       "      <td>69.0</td>\n",
       "      <td>6822.0</td>\n",
       "      <td>6274.0</td>\n",
       "      <td>1.0</td>\n",
       "      <td>2G</td>\n",
       "      <td>2G</td>\n",
       "      <td>PQza</td>\n",
       "      <td>Mango</td>\n",
       "      <td>0</td>\n",
       "    </tr>\n",
       "    <tr>\n",
       "      <th>4</th>\n",
       "      <td>2175.0</td>\n",
       "      <td>554.1300</td>\n",
       "      <td>6.99</td>\n",
       "      <td>153.75</td>\n",
       "      <td>673204.0342</td>\n",
       "      <td>33.0</td>\n",
       "      <td>3387.0</td>\n",
       "      <td>7241.0</td>\n",
       "      <td>1.0</td>\n",
       "      <td>2G</td>\n",
       "      <td>3G</td>\n",
       "      <td>Weematel</td>\n",
       "      <td>Mango</td>\n",
       "      <td>0</td>\n",
       "    </tr>\n",
       "  </tbody>\n",
       "</table>\n",
       "</div>"
      ],
      "text/plain": [
       "   network_age  Total Spend in Months 1 and 2 of 2017  Total SMS Spend  \\\n",
       "0        123.0                                76.7140             0.00   \n",
       "1       1316.0                                98.8904             4.14   \n",
       "2       2385.0                               372.6300             3.51   \n",
       "3       1614.0                               530.2000             6.85   \n",
       "4       2175.0                               554.1300             6.99   \n",
       "\n",
       "   Total Data Spend  Total Data Consumption  Total Unique Calls  \\\n",
       "0              1.25                  1.4951                14.0   \n",
       "1              1.25                  1.0244                27.0   \n",
       "2              1.25                  6.0898               119.0   \n",
       "3              1.25                  3.3447                69.0   \n",
       "4            153.75             673204.0342                33.0   \n",
       "\n",
       "   Total Onnet spend   Total Offnet spend  Total Call centre complaint calls  \\\n",
       "0               564.0              6408.0                                2.0   \n",
       "1              1626.0              4373.0                                1.0   \n",
       "2             10411.0             22039.0                                1.0   \n",
       "3              6822.0              6274.0                                1.0   \n",
       "4              3387.0              7241.0                                1.0   \n",
       "\n",
       "  Network type subscription in Month 1 Network type subscription in Month 2  \\\n",
       "0                                   2G                                   2G   \n",
       "1                                   2G                                   2G   \n",
       "2                                   2G                                   2G   \n",
       "3                                   2G                                   2G   \n",
       "4                                   2G                                   3G   \n",
       "\n",
       "  Most Loved Competitor network in in Month 1  \\\n",
       "0                                        Uxaa   \n",
       "1                                        Uxaa   \n",
       "2                                    Weematel   \n",
       "3                                        PQza   \n",
       "4                                    Weematel   \n",
       "\n",
       "  Most Loved Competitor network in in Month 2  Churn Status  \n",
       "0                                       Mango             0  \n",
       "1                                       Mango             0  \n",
       "2                                       Mango             0  \n",
       "3                                       Mango             0  \n",
       "4                                       Mango             0  "
      ]
     },
     "execution_count": 20,
     "metadata": {},
     "output_type": "execute_result"
    }
   ],
   "source": [
    "train.head()"
   ]
  },
  {
   "cell_type": "code",
   "execution_count": 21,
   "metadata": {},
   "outputs": [
    {
     "data": {
      "text/plain": [
       "network_age                                    0\n",
       "Total Spend in Months 1 and 2 of 2017          0\n",
       "Total SMS Spend                                0\n",
       "Total Data Spend                               0\n",
       "Total Data Consumption                         0\n",
       "Total Unique Calls                             0\n",
       "Total Onnet spend                              0\n",
       "Total Offnet spend                             0\n",
       "Total Call centre complaint calls              0\n",
       "Network type subscription in Month 1           0\n",
       "Network type subscription in Month 2           0\n",
       "Most Loved Competitor network in in Month 1    0\n",
       "Most Loved Competitor network in in Month 2    0\n",
       "Churn Status                                   0\n",
       "dtype: int64"
      ]
     },
     "execution_count": 21,
     "metadata": {},
     "output_type": "execute_result"
    }
   ],
   "source": [
    "train.isnull().sum(axis=0)"
   ]
  },
  {
   "cell_type": "code",
   "execution_count": 22,
   "metadata": {},
   "outputs": [
    {
     "data": {
      "text/html": [
       "<div>\n",
       "<style>\n",
       "    .dataframe thead tr:only-child th {\n",
       "        text-align: right;\n",
       "    }\n",
       "\n",
       "    .dataframe thead th {\n",
       "        text-align: left;\n",
       "    }\n",
       "\n",
       "    .dataframe tbody tr th {\n",
       "        vertical-align: top;\n",
       "    }\n",
       "</style>\n",
       "<table border=\"1\" class=\"dataframe\">\n",
       "  <thead>\n",
       "    <tr style=\"text-align: right;\">\n",
       "      <th></th>\n",
       "      <th>network_age</th>\n",
       "      <th>Total Spend in Months 1 and 2 of 2017</th>\n",
       "      <th>Total SMS Spend</th>\n",
       "      <th>Total Data Spend</th>\n",
       "      <th>Total Data Consumption</th>\n",
       "      <th>Total Unique Calls</th>\n",
       "      <th>Total Onnet spend</th>\n",
       "      <th>Total Offnet spend</th>\n",
       "      <th>Total Call centre complaint calls</th>\n",
       "      <th>Network type subscription in Month 1</th>\n",
       "      <th>Network type subscription in Month 2</th>\n",
       "      <th>Most Loved Competitor network in in Month 1</th>\n",
       "      <th>Most Loved Competitor network in in Month 2</th>\n",
       "      <th>Churn Status</th>\n",
       "    </tr>\n",
       "  </thead>\n",
       "  <tbody>\n",
       "    <tr>\n",
       "      <th>0</th>\n",
       "      <td>123.0</td>\n",
       "      <td>76.7140</td>\n",
       "      <td>0.00</td>\n",
       "      <td>1.25</td>\n",
       "      <td>1.4951</td>\n",
       "      <td>14.0</td>\n",
       "      <td>564.0</td>\n",
       "      <td>6408.0</td>\n",
       "      <td>2.0</td>\n",
       "      <td>2G</td>\n",
       "      <td>2G</td>\n",
       "      <td>Uxaa</td>\n",
       "      <td>Mango</td>\n",
       "      <td>0</td>\n",
       "    </tr>\n",
       "    <tr>\n",
       "      <th>1</th>\n",
       "      <td>1316.0</td>\n",
       "      <td>98.8904</td>\n",
       "      <td>4.14</td>\n",
       "      <td>1.25</td>\n",
       "      <td>1.0244</td>\n",
       "      <td>27.0</td>\n",
       "      <td>1626.0</td>\n",
       "      <td>4373.0</td>\n",
       "      <td>1.0</td>\n",
       "      <td>2G</td>\n",
       "      <td>2G</td>\n",
       "      <td>Uxaa</td>\n",
       "      <td>Mango</td>\n",
       "      <td>0</td>\n",
       "    </tr>\n",
       "    <tr>\n",
       "      <th>2</th>\n",
       "      <td>2385.0</td>\n",
       "      <td>372.6300</td>\n",
       "      <td>3.51</td>\n",
       "      <td>1.25</td>\n",
       "      <td>6.0898</td>\n",
       "      <td>119.0</td>\n",
       "      <td>10411.0</td>\n",
       "      <td>22039.0</td>\n",
       "      <td>1.0</td>\n",
       "      <td>2G</td>\n",
       "      <td>2G</td>\n",
       "      <td>Weematel</td>\n",
       "      <td>Mango</td>\n",
       "      <td>0</td>\n",
       "    </tr>\n",
       "    <tr>\n",
       "      <th>3</th>\n",
       "      <td>1614.0</td>\n",
       "      <td>530.2000</td>\n",
       "      <td>6.85</td>\n",
       "      <td>1.25</td>\n",
       "      <td>3.3447</td>\n",
       "      <td>69.0</td>\n",
       "      <td>6822.0</td>\n",
       "      <td>6274.0</td>\n",
       "      <td>1.0</td>\n",
       "      <td>2G</td>\n",
       "      <td>2G</td>\n",
       "      <td>PQza</td>\n",
       "      <td>Mango</td>\n",
       "      <td>0</td>\n",
       "    </tr>\n",
       "    <tr>\n",
       "      <th>4</th>\n",
       "      <td>2175.0</td>\n",
       "      <td>554.1300</td>\n",
       "      <td>6.99</td>\n",
       "      <td>153.75</td>\n",
       "      <td>673204.0342</td>\n",
       "      <td>33.0</td>\n",
       "      <td>3387.0</td>\n",
       "      <td>7241.0</td>\n",
       "      <td>1.0</td>\n",
       "      <td>2G</td>\n",
       "      <td>3G</td>\n",
       "      <td>Weematel</td>\n",
       "      <td>Mango</td>\n",
       "      <td>0</td>\n",
       "    </tr>\n",
       "  </tbody>\n",
       "</table>\n",
       "</div>"
      ],
      "text/plain": [
       "   network_age  Total Spend in Months 1 and 2 of 2017  Total SMS Spend  \\\n",
       "0        123.0                                76.7140             0.00   \n",
       "1       1316.0                                98.8904             4.14   \n",
       "2       2385.0                               372.6300             3.51   \n",
       "3       1614.0                               530.2000             6.85   \n",
       "4       2175.0                               554.1300             6.99   \n",
       "\n",
       "   Total Data Spend  Total Data Consumption  Total Unique Calls  \\\n",
       "0              1.25                  1.4951                14.0   \n",
       "1              1.25                  1.0244                27.0   \n",
       "2              1.25                  6.0898               119.0   \n",
       "3              1.25                  3.3447                69.0   \n",
       "4            153.75             673204.0342                33.0   \n",
       "\n",
       "   Total Onnet spend   Total Offnet spend  Total Call centre complaint calls  \\\n",
       "0               564.0              6408.0                                2.0   \n",
       "1              1626.0              4373.0                                1.0   \n",
       "2             10411.0             22039.0                                1.0   \n",
       "3              6822.0              6274.0                                1.0   \n",
       "4              3387.0              7241.0                                1.0   \n",
       "\n",
       "  Network type subscription in Month 1 Network type subscription in Month 2  \\\n",
       "0                                   2G                                   2G   \n",
       "1                                   2G                                   2G   \n",
       "2                                   2G                                   2G   \n",
       "3                                   2G                                   2G   \n",
       "4                                   2G                                   3G   \n",
       "\n",
       "  Most Loved Competitor network in in Month 1  \\\n",
       "0                                        Uxaa   \n",
       "1                                        Uxaa   \n",
       "2                                    Weematel   \n",
       "3                                        PQza   \n",
       "4                                    Weematel   \n",
       "\n",
       "  Most Loved Competitor network in in Month 2  Churn Status  \n",
       "0                                       Mango             0  \n",
       "1                                       Mango             0  \n",
       "2                                       Mango             0  \n",
       "3                                       Mango             0  \n",
       "4                                       Mango             0  "
      ]
     },
     "execution_count": 22,
     "metadata": {},
     "output_type": "execute_result"
    }
   ],
   "source": [
    "train.head()\n"
   ]
  },
  {
   "cell_type": "code",
   "execution_count": 23,
   "metadata": {
    "collapsed": true
   },
   "outputs": [],
   "source": [
    "X = train.iloc[:, 0 : 13].values\n",
    "y = train.iloc[:, 13].values"
   ]
  },
  {
   "cell_type": "code",
   "execution_count": 24,
   "metadata": {
    "collapsed": true
   },
   "outputs": [],
   "source": [
    "X[:,9:13]=X[:,9:13].astype(str)"
   ]
  },
  {
   "cell_type": "code",
   "execution_count": 25,
   "metadata": {
    "collapsed": true
   },
   "outputs": [],
   "source": [
    "\n",
    "from sklearn.preprocessing import LabelEncoder, OneHotEncoder\n",
    "labelencoder_X  = LabelEncoder()\n",
    "\n",
    "\n",
    "X[:, 9] = labelencoder_X.fit_transform(X[:, 9])\n",
    "X[:, 10] = labelencoder_X.fit_transform(X[:, 10])\n",
    "X[:, 11] = labelencoder_X.fit_transform(X[:, 11])\n",
    "X[:, 12] = labelencoder_X.fit_transform(X[:, 12])\n"
   ]
  },
  {
   "cell_type": "code",
   "execution_count": 26,
   "metadata": {},
   "outputs": [
    {
     "data": {
      "text/plain": [
       "array([0, 1])"
      ]
     },
     "execution_count": 26,
     "metadata": {},
     "output_type": "execute_result"
    }
   ],
   "source": [
    "np.unique(y)"
   ]
  },
  {
   "cell_type": "code",
   "execution_count": 27,
   "metadata": {
    "collapsed": true
   },
   "outputs": [],
   "source": [
    "from sklearn.preprocessing import Imputer\n",
    "\n",
    "\n",
    "imp=Imputer(missing_values=\"NaN\", strategy=\"most_frequent\")\n",
    "imp.fit(X)\n",
    "X=imp.transform(X)"
   ]
  },
  {
   "cell_type": "code",
   "execution_count": 28,
   "metadata": {},
   "outputs": [
    {
     "data": {
      "text/plain": [
       "(1400, 13)"
      ]
     },
     "execution_count": 28,
     "metadata": {},
     "output_type": "execute_result"
    }
   ],
   "source": [
    "X.shape"
   ]
  },
  {
   "cell_type": "code",
   "execution_count": 29,
   "metadata": {
    "collapsed": true
   },
   "outputs": [],
   "source": [
    "#onehotencoder = OneHotEncoder(categorical_features=[9,10,11,12])\n",
    "\n",
    "onehotencoder = OneHotEncoder(categorical_features=[11,12])\n",
    "\n",
    "X = onehotencoder.fit_transform(X).toarray()"
   ]
  },
  {
   "cell_type": "code",
   "execution_count": 30,
   "metadata": {},
   "outputs": [
    {
     "data": {
      "text/plain": [
       "(1400, 23)"
      ]
     },
     "execution_count": 30,
     "metadata": {},
     "output_type": "execute_result"
    }
   ],
   "source": [
    "X.shape"
   ]
  },
  {
   "cell_type": "code",
   "execution_count": 31,
   "metadata": {
    "collapsed": true
   },
   "outputs": [],
   "source": [
    "# correlation\n",
    "data_corr = train.corr()"
   ]
  },
  {
   "cell_type": "code",
   "execution_count": 32,
   "metadata": {
    "scrolled": false
   },
   "outputs": [
    {
     "data": {
      "text/html": [
       "<div>\n",
       "<style>\n",
       "    .dataframe thead tr:only-child th {\n",
       "        text-align: right;\n",
       "    }\n",
       "\n",
       "    .dataframe thead th {\n",
       "        text-align: left;\n",
       "    }\n",
       "\n",
       "    .dataframe tbody tr th {\n",
       "        vertical-align: top;\n",
       "    }\n",
       "</style>\n",
       "<table border=\"1\" class=\"dataframe\">\n",
       "  <thead>\n",
       "    <tr style=\"text-align: right;\">\n",
       "      <th></th>\n",
       "      <th>network_age</th>\n",
       "      <th>Total Spend in Months 1 and 2 of 2017</th>\n",
       "      <th>Total SMS Spend</th>\n",
       "      <th>Total Data Spend</th>\n",
       "      <th>Total Data Consumption</th>\n",
       "      <th>Total Unique Calls</th>\n",
       "      <th>Total Onnet spend</th>\n",
       "      <th>Total Offnet spend</th>\n",
       "      <th>Total Call centre complaint calls</th>\n",
       "      <th>Churn Status</th>\n",
       "    </tr>\n",
       "  </thead>\n",
       "  <tbody>\n",
       "    <tr>\n",
       "      <th>network_age</th>\n",
       "      <td>1.000000</td>\n",
       "      <td>0.141199</td>\n",
       "      <td>-0.041827</td>\n",
       "      <td>0.042025</td>\n",
       "      <td>-0.060496</td>\n",
       "      <td>0.227381</td>\n",
       "      <td>0.014764</td>\n",
       "      <td>0.091263</td>\n",
       "      <td>0.065511</td>\n",
       "      <td>-0.124234</td>\n",
       "    </tr>\n",
       "    <tr>\n",
       "      <th>Total Spend in Months 1 and 2 of 2017</th>\n",
       "      <td>0.141199</td>\n",
       "      <td>1.000000</td>\n",
       "      <td>0.392599</td>\n",
       "      <td>0.666606</td>\n",
       "      <td>0.117090</td>\n",
       "      <td>0.576904</td>\n",
       "      <td>0.449958</td>\n",
       "      <td>0.745388</td>\n",
       "      <td>0.090021</td>\n",
       "      <td>-0.029612</td>\n",
       "    </tr>\n",
       "    <tr>\n",
       "      <th>Total SMS Spend</th>\n",
       "      <td>-0.041827</td>\n",
       "      <td>0.392599</td>\n",
       "      <td>1.000000</td>\n",
       "      <td>0.355048</td>\n",
       "      <td>-0.039647</td>\n",
       "      <td>0.077086</td>\n",
       "      <td>0.199451</td>\n",
       "      <td>0.274817</td>\n",
       "      <td>0.021172</td>\n",
       "      <td>0.099149</td>\n",
       "    </tr>\n",
       "    <tr>\n",
       "      <th>Total Data Spend</th>\n",
       "      <td>0.042025</td>\n",
       "      <td>0.666606</td>\n",
       "      <td>0.355048</td>\n",
       "      <td>1.000000</td>\n",
       "      <td>0.093790</td>\n",
       "      <td>0.108616</td>\n",
       "      <td>0.162831</td>\n",
       "      <td>0.306002</td>\n",
       "      <td>0.076387</td>\n",
       "      <td>0.036429</td>\n",
       "    </tr>\n",
       "    <tr>\n",
       "      <th>Total Data Consumption</th>\n",
       "      <td>-0.060496</td>\n",
       "      <td>0.117090</td>\n",
       "      <td>-0.039647</td>\n",
       "      <td>0.093790</td>\n",
       "      <td>1.000000</td>\n",
       "      <td>-0.007566</td>\n",
       "      <td>-0.058647</td>\n",
       "      <td>0.004203</td>\n",
       "      <td>0.026020</td>\n",
       "      <td>-0.142138</td>\n",
       "    </tr>\n",
       "    <tr>\n",
       "      <th>Total Unique Calls</th>\n",
       "      <td>0.227381</td>\n",
       "      <td>0.576904</td>\n",
       "      <td>0.077086</td>\n",
       "      <td>0.108616</td>\n",
       "      <td>-0.007566</td>\n",
       "      <td>1.000000</td>\n",
       "      <td>0.283787</td>\n",
       "      <td>0.518272</td>\n",
       "      <td>0.065532</td>\n",
       "      <td>-0.134055</td>\n",
       "    </tr>\n",
       "    <tr>\n",
       "      <th>Total Onnet spend</th>\n",
       "      <td>0.014764</td>\n",
       "      <td>0.449958</td>\n",
       "      <td>0.199451</td>\n",
       "      <td>0.162831</td>\n",
       "      <td>-0.058647</td>\n",
       "      <td>0.283787</td>\n",
       "      <td>1.000000</td>\n",
       "      <td>0.488615</td>\n",
       "      <td>0.033553</td>\n",
       "      <td>-0.004788</td>\n",
       "    </tr>\n",
       "    <tr>\n",
       "      <th>Total Offnet spend</th>\n",
       "      <td>0.091263</td>\n",
       "      <td>0.745388</td>\n",
       "      <td>0.274817</td>\n",
       "      <td>0.306002</td>\n",
       "      <td>0.004203</td>\n",
       "      <td>0.518272</td>\n",
       "      <td>0.488615</td>\n",
       "      <td>1.000000</td>\n",
       "      <td>0.044182</td>\n",
       "      <td>0.103442</td>\n",
       "    </tr>\n",
       "    <tr>\n",
       "      <th>Total Call centre complaint calls</th>\n",
       "      <td>0.065511</td>\n",
       "      <td>0.090021</td>\n",
       "      <td>0.021172</td>\n",
       "      <td>0.076387</td>\n",
       "      <td>0.026020</td>\n",
       "      <td>0.065532</td>\n",
       "      <td>0.033553</td>\n",
       "      <td>0.044182</td>\n",
       "      <td>1.000000</td>\n",
       "      <td>-0.071591</td>\n",
       "    </tr>\n",
       "    <tr>\n",
       "      <th>Churn Status</th>\n",
       "      <td>-0.124234</td>\n",
       "      <td>-0.029612</td>\n",
       "      <td>0.099149</td>\n",
       "      <td>0.036429</td>\n",
       "      <td>-0.142138</td>\n",
       "      <td>-0.134055</td>\n",
       "      <td>-0.004788</td>\n",
       "      <td>0.103442</td>\n",
       "      <td>-0.071591</td>\n",
       "      <td>1.000000</td>\n",
       "    </tr>\n",
       "  </tbody>\n",
       "</table>\n",
       "</div>"
      ],
      "text/plain": [
       "                                       network_age  \\\n",
       "network_age                               1.000000   \n",
       "Total Spend in Months 1 and 2 of 2017     0.141199   \n",
       "Total SMS Spend                          -0.041827   \n",
       "Total Data Spend                          0.042025   \n",
       "Total Data Consumption                   -0.060496   \n",
       "Total Unique Calls                        0.227381   \n",
       "Total Onnet spend                         0.014764   \n",
       "Total Offnet spend                        0.091263   \n",
       "Total Call centre complaint calls         0.065511   \n",
       "Churn Status                             -0.124234   \n",
       "\n",
       "                                       Total Spend in Months 1 and 2 of 2017  \\\n",
       "network_age                                                         0.141199   \n",
       "Total Spend in Months 1 and 2 of 2017                               1.000000   \n",
       "Total SMS Spend                                                     0.392599   \n",
       "Total Data Spend                                                    0.666606   \n",
       "Total Data Consumption                                              0.117090   \n",
       "Total Unique Calls                                                  0.576904   \n",
       "Total Onnet spend                                                   0.449958   \n",
       "Total Offnet spend                                                  0.745388   \n",
       "Total Call centre complaint calls                                   0.090021   \n",
       "Churn Status                                                       -0.029612   \n",
       "\n",
       "                                       Total SMS Spend  Total Data Spend  \\\n",
       "network_age                                  -0.041827          0.042025   \n",
       "Total Spend in Months 1 and 2 of 2017         0.392599          0.666606   \n",
       "Total SMS Spend                               1.000000          0.355048   \n",
       "Total Data Spend                              0.355048          1.000000   \n",
       "Total Data Consumption                       -0.039647          0.093790   \n",
       "Total Unique Calls                            0.077086          0.108616   \n",
       "Total Onnet spend                             0.199451          0.162831   \n",
       "Total Offnet spend                            0.274817          0.306002   \n",
       "Total Call centre complaint calls             0.021172          0.076387   \n",
       "Churn Status                                  0.099149          0.036429   \n",
       "\n",
       "                                       Total Data Consumption  \\\n",
       "network_age                                         -0.060496   \n",
       "Total Spend in Months 1 and 2 of 2017                0.117090   \n",
       "Total SMS Spend                                     -0.039647   \n",
       "Total Data Spend                                     0.093790   \n",
       "Total Data Consumption                               1.000000   \n",
       "Total Unique Calls                                  -0.007566   \n",
       "Total Onnet spend                                   -0.058647   \n",
       "Total Offnet spend                                   0.004203   \n",
       "Total Call centre complaint calls                    0.026020   \n",
       "Churn Status                                        -0.142138   \n",
       "\n",
       "                                       Total Unique Calls  Total Onnet spend   \\\n",
       "network_age                                      0.227381            0.014764   \n",
       "Total Spend in Months 1 and 2 of 2017            0.576904            0.449958   \n",
       "Total SMS Spend                                  0.077086            0.199451   \n",
       "Total Data Spend                                 0.108616            0.162831   \n",
       "Total Data Consumption                          -0.007566           -0.058647   \n",
       "Total Unique Calls                               1.000000            0.283787   \n",
       "Total Onnet spend                                0.283787            1.000000   \n",
       "Total Offnet spend                               0.518272            0.488615   \n",
       "Total Call centre complaint calls                0.065532            0.033553   \n",
       "Churn Status                                    -0.134055           -0.004788   \n",
       "\n",
       "                                       Total Offnet spend  \\\n",
       "network_age                                      0.091263   \n",
       "Total Spend in Months 1 and 2 of 2017            0.745388   \n",
       "Total SMS Spend                                  0.274817   \n",
       "Total Data Spend                                 0.306002   \n",
       "Total Data Consumption                           0.004203   \n",
       "Total Unique Calls                               0.518272   \n",
       "Total Onnet spend                                0.488615   \n",
       "Total Offnet spend                               1.000000   \n",
       "Total Call centre complaint calls                0.044182   \n",
       "Churn Status                                     0.103442   \n",
       "\n",
       "                                       Total Call centre complaint calls  \\\n",
       "network_age                                                     0.065511   \n",
       "Total Spend in Months 1 and 2 of 2017                           0.090021   \n",
       "Total SMS Spend                                                 0.021172   \n",
       "Total Data Spend                                                0.076387   \n",
       "Total Data Consumption                                          0.026020   \n",
       "Total Unique Calls                                              0.065532   \n",
       "Total Onnet spend                                               0.033553   \n",
       "Total Offnet spend                                              0.044182   \n",
       "Total Call centre complaint calls                               1.000000   \n",
       "Churn Status                                                   -0.071591   \n",
       "\n",
       "                                       Churn Status  \n",
       "network_age                               -0.124234  \n",
       "Total Spend in Months 1 and 2 of 2017     -0.029612  \n",
       "Total SMS Spend                            0.099149  \n",
       "Total Data Spend                           0.036429  \n",
       "Total Data Consumption                    -0.142138  \n",
       "Total Unique Calls                        -0.134055  \n",
       "Total Onnet spend                         -0.004788  \n",
       "Total Offnet spend                         0.103442  \n",
       "Total Call centre complaint calls         -0.071591  \n",
       "Churn Status                               1.000000  "
      ]
     },
     "execution_count": 32,
     "metadata": {},
     "output_type": "execute_result"
    }
   ],
   "source": [
    "#deal later\n",
    "data_corr"
   ]
  },
  {
   "cell_type": "code",
   "execution_count": 33,
   "metadata": {
    "collapsed": true
   },
   "outputs": [],
   "source": [
    "data_desc = train.describe()"
   ]
  },
  {
   "cell_type": "code",
   "execution_count": 34,
   "metadata": {},
   "outputs": [
    {
     "data": {
      "text/html": [
       "<div>\n",
       "<style>\n",
       "    .dataframe thead tr:only-child th {\n",
       "        text-align: right;\n",
       "    }\n",
       "\n",
       "    .dataframe thead th {\n",
       "        text-align: left;\n",
       "    }\n",
       "\n",
       "    .dataframe tbody tr th {\n",
       "        vertical-align: top;\n",
       "    }\n",
       "</style>\n",
       "<table border=\"1\" class=\"dataframe\">\n",
       "  <thead>\n",
       "    <tr style=\"text-align: right;\">\n",
       "      <th></th>\n",
       "      <th>network_age</th>\n",
       "      <th>Total Spend in Months 1 and 2 of 2017</th>\n",
       "      <th>Total SMS Spend</th>\n",
       "      <th>Total Data Spend</th>\n",
       "      <th>Total Data Consumption</th>\n",
       "      <th>Total Unique Calls</th>\n",
       "      <th>Total Onnet spend</th>\n",
       "      <th>Total Offnet spend</th>\n",
       "      <th>Total Call centre complaint calls</th>\n",
       "      <th>Churn Status</th>\n",
       "    </tr>\n",
       "  </thead>\n",
       "  <tbody>\n",
       "    <tr>\n",
       "      <th>count</th>\n",
       "      <td>1400.000000</td>\n",
       "      <td>1400.000000</td>\n",
       "      <td>1400.000000</td>\n",
       "      <td>1400.000000</td>\n",
       "      <td>1.400000e+03</td>\n",
       "      <td>1400.000000</td>\n",
       "      <td>1400.000000</td>\n",
       "      <td>1400.00000</td>\n",
       "      <td>1400.000000</td>\n",
       "      <td>1400.000000</td>\n",
       "    </tr>\n",
       "    <tr>\n",
       "      <th>mean</th>\n",
       "      <td>1450.634286</td>\n",
       "      <td>805.641729</td>\n",
       "      <td>30.394286</td>\n",
       "      <td>58.482293</td>\n",
       "      <td>2.162307e+06</td>\n",
       "      <td>202.422143</td>\n",
       "      <td>6814.392143</td>\n",
       "      <td>15730.42000</td>\n",
       "      <td>1.922143</td>\n",
       "      <td>0.500000</td>\n",
       "    </tr>\n",
       "    <tr>\n",
       "      <th>std</th>\n",
       "      <td>1276.008188</td>\n",
       "      <td>1251.742068</td>\n",
       "      <td>60.885095</td>\n",
       "      <td>289.613589</td>\n",
       "      <td>6.865958e+06</td>\n",
       "      <td>302.036220</td>\n",
       "      <td>16707.784943</td>\n",
       "      <td>37448.94212</td>\n",
       "      <td>2.345515</td>\n",
       "      <td>0.500179</td>\n",
       "    </tr>\n",
       "    <tr>\n",
       "      <th>min</th>\n",
       "      <td>-5.000000</td>\n",
       "      <td>4.910000</td>\n",
       "      <td>0.000000</td>\n",
       "      <td>0.000000</td>\n",
       "      <td>5.860000e-02</td>\n",
       "      <td>1.000000</td>\n",
       "      <td>0.000000</td>\n",
       "      <td>0.00000</td>\n",
       "      <td>1.000000</td>\n",
       "      <td>0.000000</td>\n",
       "    </tr>\n",
       "    <tr>\n",
       "      <th>25%</th>\n",
       "      <td>287.000000</td>\n",
       "      <td>155.537500</td>\n",
       "      <td>2.620000</td>\n",
       "      <td>1.250000</td>\n",
       "      <td>1.384346e+03</td>\n",
       "      <td>18.000000</td>\n",
       "      <td>60.000000</td>\n",
       "      <td>1123.00000</td>\n",
       "      <td>1.000000</td>\n",
       "      <td>0.000000</td>\n",
       "    </tr>\n",
       "    <tr>\n",
       "      <th>50%</th>\n",
       "      <td>1171.000000</td>\n",
       "      <td>606.575000</td>\n",
       "      <td>13.715000</td>\n",
       "      <td>11.250000</td>\n",
       "      <td>1.193487e+05</td>\n",
       "      <td>81.500000</td>\n",
       "      <td>1617.000000</td>\n",
       "      <td>4171.00000</td>\n",
       "      <td>1.000000</td>\n",
       "      <td>0.500000</td>\n",
       "    </tr>\n",
       "    <tr>\n",
       "      <th>75%</th>\n",
       "      <td>2242.000000</td>\n",
       "      <td>1018.395500</td>\n",
       "      <td>31.205000</td>\n",
       "      <td>42.812500</td>\n",
       "      <td>1.206785e+06</td>\n",
       "      <td>254.250000</td>\n",
       "      <td>7177.750000</td>\n",
       "      <td>13151.50000</td>\n",
       "      <td>2.000000</td>\n",
       "      <td>1.000000</td>\n",
       "    </tr>\n",
       "    <tr>\n",
       "      <th>max</th>\n",
       "      <td>5451.000000</td>\n",
       "      <td>24438.830000</td>\n",
       "      <td>873.980000</td>\n",
       "      <td>8295.000000</td>\n",
       "      <td>9.945640e+07</td>\n",
       "      <td>2596.000000</td>\n",
       "      <td>381174.000000</td>\n",
       "      <td>431440.00000</td>\n",
       "      <td>49.000000</td>\n",
       "      <td>1.000000</td>\n",
       "    </tr>\n",
       "  </tbody>\n",
       "</table>\n",
       "</div>"
      ],
      "text/plain": [
       "       network_age  Total Spend in Months 1 and 2 of 2017  Total SMS Spend  \\\n",
       "count  1400.000000                            1400.000000      1400.000000   \n",
       "mean   1450.634286                             805.641729        30.394286   \n",
       "std    1276.008188                            1251.742068        60.885095   \n",
       "min      -5.000000                               4.910000         0.000000   \n",
       "25%     287.000000                             155.537500         2.620000   \n",
       "50%    1171.000000                             606.575000        13.715000   \n",
       "75%    2242.000000                            1018.395500        31.205000   \n",
       "max    5451.000000                           24438.830000       873.980000   \n",
       "\n",
       "       Total Data Spend  Total Data Consumption  Total Unique Calls  \\\n",
       "count       1400.000000            1.400000e+03         1400.000000   \n",
       "mean          58.482293            2.162307e+06          202.422143   \n",
       "std          289.613589            6.865958e+06          302.036220   \n",
       "min            0.000000            5.860000e-02            1.000000   \n",
       "25%            1.250000            1.384346e+03           18.000000   \n",
       "50%           11.250000            1.193487e+05           81.500000   \n",
       "75%           42.812500            1.206785e+06          254.250000   \n",
       "max         8295.000000            9.945640e+07         2596.000000   \n",
       "\n",
       "       Total Onnet spend   Total Offnet spend  \\\n",
       "count         1400.000000          1400.00000   \n",
       "mean          6814.392143         15730.42000   \n",
       "std          16707.784943         37448.94212   \n",
       "min              0.000000             0.00000   \n",
       "25%             60.000000          1123.00000   \n",
       "50%           1617.000000          4171.00000   \n",
       "75%           7177.750000         13151.50000   \n",
       "max         381174.000000        431440.00000   \n",
       "\n",
       "       Total Call centre complaint calls  Churn Status  \n",
       "count                        1400.000000   1400.000000  \n",
       "mean                            1.922143      0.500000  \n",
       "std                             2.345515      0.500179  \n",
       "min                             1.000000      0.000000  \n",
       "25%                             1.000000      0.000000  \n",
       "50%                             1.000000      0.500000  \n",
       "75%                             2.000000      1.000000  \n",
       "max                            49.000000      1.000000  "
      ]
     },
     "execution_count": 34,
     "metadata": {},
     "output_type": "execute_result"
    }
   ],
   "source": [
    "data_desc"
   ]
  },
  {
   "cell_type": "code",
   "execution_count": 35,
   "metadata": {
    "collapsed": true
   },
   "outputs": [],
   "source": [
    "cols = list(train.columns) #  Total Unique Calls    Total Onnet spend   Total Offnet spend"
   ]
  },
  {
   "cell_type": "code",
   "execution_count": 36,
   "metadata": {
    "scrolled": true
   },
   "outputs": [
    {
     "name": "stdout",
     "output_type": "stream",
     "text": [
      "network_age\n"
     ]
    },
    {
     "data": {
      "image/png": "[encoded data removed]",
      "text/plain": [
       "<matplotlib.figure.Figure at 0x10f6983c8>"
      ]
     },
     "metadata": {},
     "output_type": "display_data"
    },
    {
     "name": "stdout",
     "output_type": "stream",
     "text": [
      "Total Spend in Months 1 and 2 of 2017\n"
     ]
    },
    {
     "data": {
      "image/png": "[encoded data removed]",
      "text/plain": [
       "<matplotlib.figure.Figure at 0x1919b98278>"
      ]
     },
     "metadata": {},
     "output_type": "display_data"
    },
    {
     "name": "stdout",
     "output_type": "stream",
     "text": [
      "Total SMS Spend\n"
     ]
    },
    {
     "data": {
      "image/png": "[encoded data removed]",
      "text/plain": [
       "<matplotlib.figure.Figure at 0x1a19e2cba8>"
      ]
     },
     "metadata": {},
     "output_type": "display_data"
    },
    {
     "name": "stdout",
     "output_type": "stream",
     "text": [
      "Total Data Spend\n"
     ]
    },
    {
     "data": {
      "image/png": "[encoded data removed]",
      "text/plain": [
       "<matplotlib.figure.Figure at 0x1a19e40f60>"
      ]
     },
     "metadata": {},
     "output_type": "display_data"
    },
    {
     "name": "stdout",
     "output_type": "stream",
     "text": [
      "Total Data Consumption\n"
     ]
    },
    {
     "data": {
      "image/png": "[encoded data removed]",
      "text/plain": [
       "<matplotlib.figure.Figure at 0x1a19f014a8>"
      ]
     },
     "metadata": {},
     "output_type": "display_data"
    },
    {
     "name": "stdout",
     "output_type": "stream",
     "text": [
      "Total Unique Calls\n"
     ]
    },
    {
     "data": {
      "image/png": "[encoded data removed]",
      "text/plain": [
       "<matplotlib.figure.Figure at 0x10f698588>"
      ]
     },
     "metadata": {},
     "output_type": "display_data"
    },
    {
     "name": "stdout",
     "output_type": "stream",
     "text": [
      "Total Onnet spend \n"
     ]
    },
    {
     "data": {
      "image/png": "[encoded data removed]",
      "text/plain": [
       "<matplotlib.figure.Figure at 0x109a7d780>"
      ]
     },
     "metadata": {},
     "output_type": "display_data"
    },
    {
     "name": "stdout",
     "output_type": "stream",
     "text": [
      "Total Offnet spend\n"
     ]
    },
    {
     "data": {
      "image/png": "[encoded data removed]",
      "text/plain": [
       "<matplotlib.figure.Figure at 0x108fbeda0>"
      ]
     },
     "metadata": {},
     "output_type": "display_data"
    },
    {
     "name": "stdout",
     "output_type": "stream",
     "text": [
      "Total Call centre complaint calls\n"
     ]
    },
    {
     "data": {
      "image/png": "[encoded data removed]",
      "text/plain": [
       "<matplotlib.figure.Figure at 0x1a19d5b898>"
      ]
     },
     "metadata": {},
     "output_type": "display_data"
    },
    {
     "name": "stdout",
     "output_type": "stream",
     "text": [
      "Network type subscription in Month 1\n"
     ]
    },
    {
     "data": {
      "image/png": "[encoded data removed]",
      "text/plain": [
       "<matplotlib.figure.Figure at 0x1a19dbd908>"
      ]
     },
     "metadata": {},
     "output_type": "display_data"
    },
    {
     "name": "stdout",
     "output_type": "stream",
     "text": [
      "Network type subscription in Month 2\n"
     ]
    },
    {
     "data": {
      "image/png": "[encoded data removed]",
      "text/plain": [
       "<matplotlib.figure.Figure at 0x10f5b3f98>"
      ]
     },
     "metadata": {},
     "output_type": "display_data"
    },
    {
     "name": "stdout",
     "output_type": "stream",
     "text": [
      "Most Loved Competitor network in in Month 1\n"
     ]
    },
    {
     "data": {
      "image/png": "[encoded data removed]",
      "text/plain": [
       "<matplotlib.figure.Figure at 0x1a1a111588>"
      ]
     },
     "metadata": {},
     "output_type": "display_data"
    },
    {
     "name": "stdout",
     "output_type": "stream",
     "text": [
      "Most Loved Competitor network in in Month 2\n"
     ]
    },
    {
     "data": {
      "image/png": "[encoded data removed]",
      "text/plain": [
       "<matplotlib.figure.Figure at 0x10f6736d8>"
      ]
     },
     "metadata": {},
     "output_type": "display_data"
    },
    {
     "name": "stdout",
     "output_type": "stream",
     "text": [
      "Churn Status\n"
     ]
    },
    {
     "data": {
      "image/png": "[encoded data removed]",
      "text/plain": [
       "<matplotlib.figure.Figure at 0x1a1a2f7cc0>"
      ]
     },
     "metadata": {},
     "output_type": "display_data"
    }
   ],
   "source": [
    "for i in cols:\n",
    "    print(i)\n",
    "    plt.hist(train[i])\n",
    "    plt.show()"
   ]
  },
  {
   "cell_type": "code",
   "execution_count": 37,
   "metadata": {
    "collapsed": true
   },
   "outputs": [],
   "source": [
    "#plt.boxplot(train['Total SMS Spend'])\n",
    "#plt.show()"
   ]
  },
  {
   "cell_type": "code",
   "execution_count": 38,
   "metadata": {
    "collapsed": true
   },
   "outputs": [],
   "source": [
    "from sklearn.model_selection import train_test_split\n",
    "X_train, X_test, y_train, y_test = train_test_split(X, y, test_size = 0.3, random_state = 0,stratify=y)\n",
    "\n",
    "\n",
    "\n",
    "# Feature Scaling\n",
    "from sklearn.preprocessing import StandardScaler\n",
    "from sklearn.preprocessing import MinMaxScaler\n",
    "\n",
    "sc = StandardScaler()\n",
    "#sc = MinMaxScaler()\n",
    "\n",
    "X_train = sc.fit_transform(X_train)\n",
    "X_test = sc.transform(X_test)\n",
    "\n",
    "\n",
    "allX = sc.fit_transform(X)"
   ]
  },
  {
   "cell_type": "code",
   "execution_count": 39,
   "metadata": {},
   "outputs": [
    {
     "data": {
      "text/plain": [
       "(980, 23)"
      ]
     },
     "execution_count": 39,
     "metadata": {},
     "output_type": "execute_result"
    }
   ],
   "source": [
    "X_train.shape"
   ]
  },
  {
   "cell_type": "code",
   "execution_count": 40,
   "metadata": {},
   "outputs": [
    {
     "data": {
      "text/plain": [
       "array([[162,  48],\n",
       "       [102, 108]])"
      ]
     },
     "execution_count": 40,
     "metadata": {},
     "output_type": "execute_result"
    }
   ],
   "source": [
    "# Fitting Kernel SVM to the Training set\n",
    "from sklearn.svm import SVC\n",
    "classifier = SVC(kernel = 'poly', random_state = 0, C = 0.1, gamma =0.1)\n",
    "classifier.fit(X_train, y_train)\n",
    "\n",
    "# Predicting the Test set results\n",
    "y_pred = classifier.predict(X_test)\n",
    "\n",
    "# Making the Confusion Matrix\n",
    "from sklearn.metrics import confusion_matrix\n",
    "cm = confusion_matrix(y_test, y_pred)\n",
    "\n",
    "cm"
   ]
  },
  {
   "cell_type": "code",
   "execution_count": 41,
   "metadata": {},
   "outputs": [
    {
     "data": {
      "text/plain": [
       "array([[164,  46],\n",
       "       [ 89, 121]])"
      ]
     },
     "execution_count": 41,
     "metadata": {},
     "output_type": "execute_result"
    }
   ],
   "source": [
    "#Second SVC Model\n",
    "\n",
    "classifier = SVC(kernel = 'linear', random_state = 0, C = 0.00001 , gamma =0.1)\n",
    "classifier.fit(X_train, y_train)\n",
    "\n",
    "# Predicting the Test set results\n",
    "y_pred = classifier.predict(X_test)\n",
    "\n",
    "# Making the Confusion Matrix\n",
    "from sklearn.metrics import confusion_matrix\n",
    "cm = confusion_matrix(y_test, y_pred)\n",
    "\n",
    "cm"
   ]
  },
  {
   "cell_type": "code",
   "execution_count": 42,
   "metadata": {},
   "outputs": [
    {
     "name": "stderr",
     "output_type": "stream",
     "text": [
      "Using TensorFlow backend.\n"
     ]
    }
   ],
   "source": [
    "# Part 2 - Now let's make the ANN!\n",
    "\n",
    "# Importing the Keras libraries and packages\n",
    "import keras\n",
    "from keras.models import Sequential\n",
    "from keras.layers import Dense\n",
    "from keras.layers import Dropout\n",
    "# Initialising the ANN"
   ]
  },
  {
   "cell_type": "code",
   "execution_count": 43,
   "metadata": {
    "scrolled": true
   },
   "outputs": [
    {
     "name": "stdout",
     "output_type": "stream",
     "text": [
      "Epoch 1/100\n",
      "980/980 [==============================] - 1s 663us/step - loss: 0.6899 - acc: 0.5816\n",
      "Epoch 2/100\n",
      "980/980 [==============================] - 0s 154us/step - loss: 0.6392 - acc: 0.6704\n",
      "Epoch 3/100\n",
      "980/980 [==============================] - 0s 152us/step - loss: 0.5838 - acc: 0.6980\n",
      "Epoch 4/100\n",
      "980/980 [==============================] - 0s 157us/step - loss: 0.5927 - acc: 0.7061\n",
      "Epoch 5/100\n",
      "980/980 [==============================] - 0s 153us/step - loss: 0.5644 - acc: 0.7163\n",
      "Epoch 6/100\n",
      "980/980 [==============================] - 0s 175us/step - loss: 0.5754 - acc: 0.7153\n",
      "Epoch 7/100\n",
      "980/980 [==============================] - 0s 151us/step - loss: 0.5670 - acc: 0.7133\n",
      "Epoch 8/100\n",
      "980/980 [==============================] - 0s 170us/step - loss: 0.5495 - acc: 0.7276\n",
      "Epoch 9/100\n",
      "980/980 [==============================] - 0s 153us/step - loss: 0.5582 - acc: 0.7296\n",
      "Epoch 10/100\n",
      "980/980 [==============================] - 0s 150us/step - loss: 0.5464 - acc: 0.7378\n",
      "Epoch 11/100\n",
      "980/980 [==============================] - 0s 161us/step - loss: 0.5561 - acc: 0.7245\n",
      "Epoch 12/100\n",
      "980/980 [==============================] - 0s 155us/step - loss: 0.5413 - acc: 0.7490\n",
      "Epoch 13/100\n",
      "980/980 [==============================] - 0s 151us/step - loss: 0.5353 - acc: 0.7296\n",
      "Epoch 14/100\n",
      "980/980 [==============================] - 0s 150us/step - loss: 0.5376 - acc: 0.7408\n",
      "Epoch 15/100\n",
      "980/980 [==============================] - ETA: 0s - loss: 0.5621 - acc: 0.707 - 0s 156us/step - loss: 0.5320 - acc: 0.7418\n",
      "Epoch 16/100\n",
      "980/980 [==============================] - 0s 154us/step - loss: 0.5341 - acc: 0.7429\n",
      "Epoch 17/100\n",
      "980/980 [==============================] - 0s 152us/step - loss: 0.5354 - acc: 0.7439\n",
      "Epoch 18/100\n",
      "980/980 [==============================] - 0s 153us/step - loss: 0.5348 - acc: 0.7449\n",
      "Epoch 19/100\n",
      "980/980 [==============================] - 0s 152us/step - loss: 0.5293 - acc: 0.7490\n",
      "Epoch 20/100\n",
      "980/980 [==============================] - 0s 151us/step - loss: 0.5346 - acc: 0.7449\n",
      "Epoch 21/100\n",
      "980/980 [==============================] - 0s 152us/step - loss: 0.5267 - acc: 0.7541\n",
      "Epoch 22/100\n",
      "980/980 [==============================] - 0s 154us/step - loss: 0.5022 - acc: 0.7633\n",
      "Epoch 23/100\n",
      "980/980 [==============================] - 0s 169us/step - loss: 0.5104 - acc: 0.7663\n",
      "Epoch 24/100\n",
      "980/980 [==============================] - 0s 150us/step - loss: 0.5181 - acc: 0.7531\n",
      "Epoch 25/100\n",
      "980/980 [==============================] - 0s 154us/step - loss: 0.4971 - acc: 0.7735\n",
      "Epoch 26/100\n",
      "980/980 [==============================] - 0s 150us/step - loss: 0.5092 - acc: 0.7602\n",
      "Epoch 27/100\n",
      "980/980 [==============================] - 0s 158us/step - loss: 0.5003 - acc: 0.7724\n",
      "Epoch 28/100\n",
      "980/980 [==============================] - 0s 174us/step - loss: 0.4970 - acc: 0.7724\n",
      "Epoch 29/100\n",
      "980/980 [==============================] - 0s 164us/step - loss: 0.5067 - acc: 0.7571\n",
      "Epoch 30/100\n",
      "980/980 [==============================] - 0s 152us/step - loss: 0.4925 - acc: 0.7612\n",
      "Epoch 31/100\n",
      "980/980 [==============================] - 0s 150us/step - loss: 0.4931 - acc: 0.7724\n",
      "Epoch 32/100\n",
      "980/980 [==============================] - 0s 153us/step - loss: 0.4988 - acc: 0.7745\n",
      "Epoch 33/100\n",
      "980/980 [==============================] - 0s 148us/step - loss: 0.4836 - acc: 0.7847\n",
      "Epoch 34/100\n",
      "980/980 [==============================] - 0s 154us/step - loss: 0.4818 - acc: 0.7765\n",
      "Epoch 35/100\n",
      "980/980 [==============================] - 0s 148us/step - loss: 0.4701 - acc: 0.7908\n",
      "Epoch 36/100\n",
      "980/980 [==============================] - 0s 155us/step - loss: 0.4835 - acc: 0.7888 0s - loss: 0.4871 - acc: 0.792\n",
      "Epoch 37/100\n",
      "980/980 [==============================] - 0s 149us/step - loss: 0.4741 - acc: 0.7867\n",
      "Epoch 38/100\n",
      "980/980 [==============================] - 0s 313us/step - loss: 0.4922 - acc: 0.7684\n",
      "Epoch 39/100\n",
      "980/980 [==============================] - 0s 183us/step - loss: 0.4589 - acc: 0.7969\n",
      "Epoch 40/100\n",
      "980/980 [==============================] - 0s 152us/step - loss: 0.4790 - acc: 0.7765\n",
      "Epoch 41/100\n",
      "980/980 [==============================] - 0s 164us/step - loss: 0.4638 - acc: 0.7969\n",
      "Epoch 42/100\n",
      "980/980 [==============================] - 0s 153us/step - loss: 0.4629 - acc: 0.7847\n",
      "Epoch 43/100\n",
      "980/980 [==============================] - 0s 149us/step - loss: 0.4691 - acc: 0.7898\n",
      "Epoch 44/100\n",
      "980/980 [==============================] - 0s 151us/step - loss: 0.4742 - acc: 0.7837\n",
      "Epoch 45/100\n",
      "980/980 [==============================] - 0s 147us/step - loss: 0.4586 - acc: 0.7898\n",
      "Epoch 46/100\n",
      "980/980 [==============================] - 0s 151us/step - loss: 0.4589 - acc: 0.7806\n",
      "Epoch 47/100\n",
      "980/980 [==============================] - 0s 153us/step - loss: 0.4612 - acc: 0.7908\n",
      "Epoch 48/100\n",
      "980/980 [==============================] - 0s 148us/step - loss: 0.4541 - acc: 0.8000\n",
      "Epoch 49/100\n",
      "980/980 [==============================] - 0s 150us/step - loss: 0.4455 - acc: 0.7959\n",
      "Epoch 50/100\n",
      "980/980 [==============================] - 0s 184us/step - loss: 0.4420 - acc: 0.7867\n",
      "Epoch 51/100\n",
      "980/980 [==============================] - 0s 176us/step - loss: 0.4498 - acc: 0.8020\n",
      "Epoch 52/100\n",
      "980/980 [==============================] - 0s 146us/step - loss: 0.4520 - acc: 0.7898\n",
      "Epoch 53/100\n",
      "980/980 [==============================] - 0s 152us/step - loss: 0.4536 - acc: 0.7786\n",
      "Epoch 54/100\n",
      "980/980 [==============================] - 0s 148us/step - loss: 0.4465 - acc: 0.8061\n",
      "Epoch 55/100\n",
      "980/980 [==============================] - 0s 155us/step - loss: 0.4553 - acc: 0.7939 0s - loss: 0.4643 - acc: 0.786\n",
      "Epoch 56/100\n",
      "980/980 [==============================] - 0s 169us/step - loss: 0.4439 - acc: 0.7990\n",
      "Epoch 57/100\n",
      "980/980 [==============================] - 0s 178us/step - loss: 0.4377 - acc: 0.8020\n",
      "Epoch 58/100\n",
      "980/980 [==============================] - 0s 179us/step - loss: 0.4408 - acc: 0.7990\n",
      "Epoch 59/100\n",
      "980/980 [==============================] - 0s 152us/step - loss: 0.4370 - acc: 0.7969\n",
      "Epoch 60/100\n",
      "980/980 [==============================] - 0s 145us/step - loss: 0.4494 - acc: 0.7878\n",
      "Epoch 61/100\n",
      "980/980 [==============================] - 0s 152us/step - loss: 0.4461 - acc: 0.7929\n",
      "Epoch 62/100\n",
      "980/980 [==============================] - 0s 149us/step - loss: 0.4366 - acc: 0.8082\n",
      "Epoch 63/100\n",
      "980/980 [==============================] - 0s 189us/step - loss: 0.4352 - acc: 0.8031\n",
      "Epoch 64/100\n",
      "980/980 [==============================] - 0s 177us/step - loss: 0.4337 - acc: 0.8092\n",
      "Epoch 65/100\n",
      "980/980 [==============================] - 0s 172us/step - loss: 0.4176 - acc: 0.8173\n",
      "Epoch 66/100\n",
      "980/980 [==============================] - 0s 152us/step - loss: 0.4259 - acc: 0.8000\n",
      "Epoch 67/100\n",
      "980/980 [==============================] - 0s 151us/step - loss: 0.4125 - acc: 0.8122\n",
      "Epoch 68/100\n",
      "980/980 [==============================] - 0s 166us/step - loss: 0.4323 - acc: 0.7980\n",
      "Epoch 69/100\n",
      "980/980 [==============================] - 0s 147us/step - loss: 0.4356 - acc: 0.8071\n",
      "Epoch 70/100\n",
      "980/980 [==============================] - 0s 152us/step - loss: 0.4336 - acc: 0.8010\n",
      "Epoch 71/100\n",
      "980/980 [==============================] - 0s 153us/step - loss: 0.4212 - acc: 0.8102\n",
      "Epoch 72/100\n",
      "980/980 [==============================] - 0s 151us/step - loss: 0.4036 - acc: 0.8245\n",
      "Epoch 73/100\n",
      "980/980 [==============================] - ETA: 0s - loss: 0.4120 - acc: 0.825 - 0s 154us/step - loss: 0.4037 - acc: 0.8255\n",
      "Epoch 74/100\n",
      "980/980 [==============================] - 0s 150us/step - loss: 0.4212 - acc: 0.8163\n",
      "Epoch 75/100\n",
      "980/980 [==============================] - 0s 153us/step - loss: 0.4166 - acc: 0.8000\n",
      "Epoch 76/100\n",
      "980/980 [==============================] - 0s 153us/step - loss: 0.4129 - acc: 0.8010\n",
      "Epoch 77/100\n",
      "980/980 [==============================] - 0s 155us/step - loss: 0.4150 - acc: 0.8184\n",
      "Epoch 78/100\n",
      "980/980 [==============================] - 0s 165us/step - loss: 0.4146 - acc: 0.8082\n",
      "Epoch 79/100\n",
      "980/980 [==============================] - 0s 151us/step - loss: 0.3954 - acc: 0.8255\n",
      "Epoch 80/100\n",
      "980/980 [==============================] - 0s 171us/step - loss: 0.4272 - acc: 0.8133\n",
      "Epoch 81/100\n",
      "980/980 [==============================] - 0s 149us/step - loss: 0.4183 - acc: 0.8092\n",
      "Epoch 82/100\n",
      "980/980 [==============================] - 0s 152us/step - loss: 0.4033 - acc: 0.8224\n",
      "Epoch 83/100\n",
      "980/980 [==============================] - 0s 155us/step - loss: 0.3874 - acc: 0.8224\n",
      "Epoch 84/100\n",
      "980/980 [==============================] - 0s 149us/step - loss: 0.4019 - acc: 0.8235\n",
      "Epoch 85/100\n",
      "980/980 [==============================] - 0s 152us/step - loss: 0.4026 - acc: 0.8245\n",
      "Epoch 86/100\n",
      "980/980 [==============================] - 0s 155us/step - loss: 0.3945 - acc: 0.8194\n",
      "Epoch 87/100\n",
      "980/980 [==============================] - 0s 152us/step - loss: 0.4169 - acc: 0.7990\n",
      "Epoch 88/100\n",
      "980/980 [==============================] - 0s 148us/step - loss: 0.4116 - acc: 0.8082\n",
      "Epoch 89/100\n",
      "980/980 [==============================] - 0s 154us/step - loss: 0.3981 - acc: 0.8327\n",
      "Epoch 90/100\n",
      "980/980 [==============================] - 0s 151us/step - loss: 0.4058 - acc: 0.8163\n",
      "Epoch 91/100\n",
      "980/980 [==============================] - 0s 159us/step - loss: 0.4115 - acc: 0.8092\n",
      "Epoch 92/100\n",
      "980/980 [==============================] - 0s 150us/step - loss: 0.4087 - acc: 0.8133\n",
      "Epoch 93/100\n",
      "980/980 [==============================] - 0s 153us/step - loss: 0.3928 - acc: 0.8173\n",
      "Epoch 94/100\n",
      "980/980 [==============================] - 0s 149us/step - loss: 0.3897 - acc: 0.8388\n",
      "Epoch 95/100\n",
      "980/980 [==============================] - 0s 154us/step - loss: 0.3880 - acc: 0.8276\n",
      "Epoch 96/100\n",
      "980/980 [==============================] - 0s 148us/step - loss: 0.3948 - acc: 0.8235\n",
      "Epoch 97/100\n",
      "980/980 [==============================] - 0s 155us/step - loss: 0.3814 - acc: 0.8459\n",
      "Epoch 98/100\n",
      "980/980 [==============================] - 0s 150us/step - loss: 0.3733 - acc: 0.8316\n",
      "Epoch 99/100\n",
      "980/980 [==============================] - 0s 150us/step - loss: 0.3727 - acc: 0.8255\n",
      "Epoch 100/100\n",
      "980/980 [==============================] - 0s 153us/step - loss: 0.3932 - acc: 0.8327\n"
     ]
    },
    {
     "data": {
      "text/plain": [
       "<keras.callbacks.History at 0x1a26d435c0>"
      ]
     },
     "execution_count": 43,
     "metadata": {},
     "output_type": "execute_result"
    }
   ],
   "source": [
    "\n",
    "classifier = Sequential()\n",
    "\n",
    "# Adding the input layer and the first hidden layer\n",
    "classifier.add(Dense(units = 30, kernel_initializer = 'uniform', activation = 'relu', input_dim = 23 ))#277\n",
    "classifier.add(Dropout(rate = 0.3))\n",
    "\n",
    "\n",
    "# Adding the second hidden layer\n",
    "classifier.add(Dense(units = 30, kernel_initializer = 'uniform', activation = 'relu'))\n",
    "classifier.add(Dropout(rate = 0.3))\n",
    "\n",
    "# Adding the output layer\n",
    "classifier.add(Dense(units = 1, kernel_initializer = 'uniform', activation = 'sigmoid'))\n",
    "\n",
    "# Compiling the ANN\n",
    "classifier.compile(optimizer = 'adam', loss = 'binary_crossentropy', metrics = ['accuracy'])\n",
    "\n",
    "# Fitting the ANN to the Training set\n",
    "classifier.fit(X_train, y_train, batch_size = 10, epochs = 100)\n",
    "\n"
   ]
  },
  {
   "cell_type": "code",
   "execution_count": 44,
   "metadata": {
    "collapsed": true
   },
   "outputs": [],
   "source": [
    "# Part 3 - Making predictions and evaluating the model\n",
    "\n",
    "# Predicting the Test set results\n",
    "y_pred = classifier.predict(X_test)\n",
    "y_pred= np.where(y_pred > 0.5, 1, 0)\n",
    "\n",
    "# Making the Confusion Matrix\n",
    "from sklearn.metrics import confusion_matrix\n",
    "cm = confusion_matrix(y_test, y_pred)"
   ]
  },
  {
   "cell_type": "code",
   "execution_count": 45,
   "metadata": {},
   "outputs": [
    {
     "data": {
      "text/plain": [
       "array([[147,  63],\n",
       "       [ 53, 157]])"
      ]
     },
     "execution_count": 45,
     "metadata": {},
     "output_type": "execute_result"
    }
   ],
   "source": [
    "cm"
   ]
  },
  {
   "cell_type": "code",
   "execution_count": 46,
   "metadata": {
    "collapsed": true
   },
   "outputs": [],
   "source": [
    "#predict the test data"
   ]
  },
  {
   "cell_type": "code",
   "execution_count": 47,
   "metadata": {
    "collapsed": true
   },
   "outputs": [],
   "source": [
    "test = pd.read_csv('TEST.csv')"
   ]
  },
  {
   "cell_type": "code",
   "execution_count": 48,
   "metadata": {},
   "outputs": [
    {
     "data": {
      "text/html": [
       "<div>\n",
       "<style>\n",
       "    .dataframe thead tr:only-child th {\n",
       "        text-align: right;\n",
       "    }\n",
       "\n",
       "    .dataframe thead th {\n",
       "        text-align: left;\n",
       "    }\n",
       "\n",
       "    .dataframe tbody tr th {\n",
       "        vertical-align: top;\n",
       "    }\n",
       "</style>\n",
       "<table border=\"1\" class=\"dataframe\">\n",
       "  <thead>\n",
       "    <tr style=\"text-align: right;\">\n",
       "      <th></th>\n",
       "      <th>Customer ID</th>\n",
       "      <th>network_age</th>\n",
       "      <th>Customer tenure in month</th>\n",
       "      <th>Total Spend in Months 1 and 2 of 2017</th>\n",
       "      <th>Total SMS Spend</th>\n",
       "      <th>Total Data Spend</th>\n",
       "      <th>Total Data Consumption</th>\n",
       "      <th>Total Unique Calls</th>\n",
       "      <th>Total Onnet spend</th>\n",
       "      <th>Total Offnet spend</th>\n",
       "      <th>Total Call centre complaint calls</th>\n",
       "      <th>Network type subscription in Month 1</th>\n",
       "      <th>Network type subscription in Month 2</th>\n",
       "      <th>Most Loved Competitor network in in Month 1</th>\n",
       "      <th>Most Loved Competitor network in in Month 2</th>\n",
       "    </tr>\n",
       "  </thead>\n",
       "  <tbody>\n",
       "    <tr>\n",
       "      <th>0</th>\n",
       "      <td>ADF0001</td>\n",
       "      <td>1012</td>\n",
       "      <td>33.733333</td>\n",
       "      <td>1560.1156</td>\n",
       "      <td>14.04</td>\n",
       "      <td>226.3</td>\n",
       "      <td>3.126093e+06</td>\n",
       "      <td>64</td>\n",
       "      <td>14503</td>\n",
       "      <td>12402</td>\n",
       "      <td>1</td>\n",
       "      <td>3G</td>\n",
       "      <td>3G</td>\n",
       "      <td>Weematel</td>\n",
       "      <td>Mango</td>\n",
       "    </tr>\n",
       "    <tr>\n",
       "      <th>1</th>\n",
       "      <td>ADF0002</td>\n",
       "      <td>137</td>\n",
       "      <td>4.566667</td>\n",
       "      <td>1705.8368</td>\n",
       "      <td>73.63</td>\n",
       "      <td>5.0</td>\n",
       "      <td>1.628809e+02</td>\n",
       "      <td>515</td>\n",
       "      <td>29832</td>\n",
       "      <td>88953</td>\n",
       "      <td>9</td>\n",
       "      <td>3G</td>\n",
       "      <td>3G</td>\n",
       "      <td>ToCall</td>\n",
       "      <td>Mango</td>\n",
       "    </tr>\n",
       "    <tr>\n",
       "      <th>2</th>\n",
       "      <td>ADF0003</td>\n",
       "      <td>202</td>\n",
       "      <td>6.733333</td>\n",
       "      <td>1720.3008</td>\n",
       "      <td>4.36</td>\n",
       "      <td>245.0</td>\n",
       "      <td>3.334607e+06</td>\n",
       "      <td>163</td>\n",
       "      <td>228</td>\n",
       "      <td>1495</td>\n",
       "      <td>1</td>\n",
       "      <td>3G</td>\n",
       "      <td>3G</td>\n",
       "      <td>ToCall</td>\n",
       "      <td>Mango</td>\n",
       "    </tr>\n",
       "    <tr>\n",
       "      <th>3</th>\n",
       "      <td>ADF0004</td>\n",
       "      <td>165</td>\n",
       "      <td>5.500000</td>\n",
       "      <td>1732.2800</td>\n",
       "      <td>0.00</td>\n",
       "      <td>12.5</td>\n",
       "      <td>6.682924e+05</td>\n",
       "      <td>484</td>\n",
       "      <td>0</td>\n",
       "      <td>71928</td>\n",
       "      <td>2</td>\n",
       "      <td>3G</td>\n",
       "      <td>3G</td>\n",
       "      <td>Uxaa</td>\n",
       "      <td>Mango</td>\n",
       "    </tr>\n",
       "    <tr>\n",
       "      <th>4</th>\n",
       "      <td>ADF0005</td>\n",
       "      <td>759</td>\n",
       "      <td>25.300000</td>\n",
       "      <td>1873.0600</td>\n",
       "      <td>69.57</td>\n",
       "      <td>412.5</td>\n",
       "      <td>6.666975e+06</td>\n",
       "      <td>64</td>\n",
       "      <td>7616</td>\n",
       "      <td>20753</td>\n",
       "      <td>2</td>\n",
       "      <td>3G</td>\n",
       "      <td>3G</td>\n",
       "      <td>Mango</td>\n",
       "      <td>Mango</td>\n",
       "    </tr>\n",
       "  </tbody>\n",
       "</table>\n",
       "</div>"
      ],
      "text/plain": [
       "  Customer ID  network_age  Customer tenure in month  \\\n",
       "0     ADF0001         1012                 33.733333   \n",
       "1     ADF0002          137                  4.566667   \n",
       "2     ADF0003          202                  6.733333   \n",
       "3     ADF0004          165                  5.500000   \n",
       "4     ADF0005          759                 25.300000   \n",
       "\n",
       "   Total Spend in Months 1 and 2 of 2017  Total SMS Spend  Total Data Spend  \\\n",
       "0                              1560.1156            14.04             226.3   \n",
       "1                              1705.8368            73.63               5.0   \n",
       "2                              1720.3008             4.36             245.0   \n",
       "3                              1732.2800             0.00              12.5   \n",
       "4                              1873.0600            69.57             412.5   \n",
       "\n",
       "   Total Data Consumption  Total Unique Calls  Total Onnet spend   \\\n",
       "0            3.126093e+06                  64               14503   \n",
       "1            1.628809e+02                 515               29832   \n",
       "2            3.334607e+06                 163                 228   \n",
       "3            6.682924e+05                 484                   0   \n",
       "4            6.666975e+06                  64                7616   \n",
       "\n",
       "   Total Offnet spend  Total Call centre complaint calls  \\\n",
       "0               12402                                  1   \n",
       "1               88953                                  9   \n",
       "2                1495                                  1   \n",
       "3               71928                                  2   \n",
       "4               20753                                  2   \n",
       "\n",
       "  Network type subscription in Month 1 Network type subscription in Month 2  \\\n",
       "0                                   3G                                   3G   \n",
       "1                                   3G                                   3G   \n",
       "2                                   3G                                   3G   \n",
       "3                                   3G                                   3G   \n",
       "4                                   3G                                   3G   \n",
       "\n",
       "  Most Loved Competitor network in in Month 1  \\\n",
       "0                                    Weematel   \n",
       "1                                      ToCall   \n",
       "2                                      ToCall   \n",
       "3                                        Uxaa   \n",
       "4                                       Mango   \n",
       "\n",
       "  Most Loved Competitor network in in Month 2  \n",
       "0                                       Mango  \n",
       "1                                       Mango  \n",
       "2                                       Mango  \n",
       "3                                       Mango  \n",
       "4                                       Mango  "
      ]
     },
     "execution_count": 48,
     "metadata": {},
     "output_type": "execute_result"
    }
   ],
   "source": [
    "test.head()"
   ]
  },
  {
   "cell_type": "code",
   "execution_count": 49,
   "metadata": {
    "collapsed": true
   },
   "outputs": [],
   "source": [
    "\n",
    "#test['Churn Status'] = train['Churn Status'].astype(int)\n",
    "test = test.drop(['Customer ID','Customer tenure in month'], axis=1)"
   ]
  },
  {
   "cell_type": "code",
   "execution_count": 50,
   "metadata": {
    "collapsed": true
   },
   "outputs": [],
   "source": [
    "#test = test.drop(['Total Spend in Months 1 and 2 of 2017','Customer tenure in month'], axis=1)"
   ]
  },
  {
   "cell_type": "code",
   "execution_count": 51,
   "metadata": {},
   "outputs": [
    {
     "data": {
      "text/plain": [
       "(600, 13)"
      ]
     },
     "execution_count": 51,
     "metadata": {},
     "output_type": "execute_result"
    }
   ],
   "source": [
    "test.shape"
   ]
  },
  {
   "cell_type": "code",
   "execution_count": 52,
   "metadata": {},
   "outputs": [
    {
     "data": {
      "text/plain": [
       "Index(['network_age', 'Total Spend in Months 1 and 2 of 2017',\n",
       "       'Total SMS Spend', 'Total Data Spend', 'Total Data Consumption',\n",
       "       'Total Unique Calls', 'Total Onnet spend ', 'Total Offnet spend',\n",
       "       'Total Call centre complaint calls',\n",
       "       'Network type subscription in Month 1',\n",
       "       'Network type subscription in Month 2',\n",
       "       'Most Loved Competitor network in in Month 1',\n",
       "       'Most Loved Competitor network in in Month 2', 'Churn Status'],\n",
       "      dtype='object')"
      ]
     },
     "execution_count": 52,
     "metadata": {},
     "output_type": "execute_result"
    }
   ],
   "source": [
    "train.columns"
   ]
  },
  {
   "cell_type": "code",
   "execution_count": 53,
   "metadata": {},
   "outputs": [
    {
     "data": {
      "text/plain": [
       "Index(['network_age', 'Total Spend in Months 1 and 2 of 2017',\n",
       "       'Total SMS Spend', 'Total Data Spend', 'Total Data Consumption',\n",
       "       'Total Unique Calls', 'Total Onnet spend ', 'Total Offnet spend',\n",
       "       'Total Call centre complaint calls',\n",
       "       'Network type subscription in Month 1',\n",
       "       'Network type subscription in Month 2',\n",
       "       'Most Loved Competitor network in in Month 1',\n",
       "       'Most Loved Competitor network in in Month 2'],\n",
       "      dtype='object')"
      ]
     },
     "execution_count": 53,
     "metadata": {},
     "output_type": "execute_result"
    }
   ],
   "source": [
    "\n",
    "test.columns"
   ]
  },
  {
   "cell_type": "code",
   "execution_count": 54,
   "metadata": {},
   "outputs": [
    {
     "data": {
      "text/plain": [
       "array(['3G', nan, 'Other', '2G'], dtype=object)"
      ]
     },
     "execution_count": 54,
     "metadata": {},
     "output_type": "execute_result"
    }
   ],
   "source": [
    "test['Network type subscription in Month 1'].unique()"
   ]
  },
  {
   "cell_type": "code",
   "execution_count": 55,
   "metadata": {},
   "outputs": [
    {
     "data": {
      "text/plain": [
       "array(['3G', 'Other', '2G', nan], dtype=object)"
      ]
     },
     "execution_count": 55,
     "metadata": {},
     "output_type": "execute_result"
    }
   ],
   "source": [
    "test['Network type subscription in Month 2'].unique()"
   ]
  },
  {
   "cell_type": "code",
   "execution_count": 56,
   "metadata": {},
   "outputs": [
    {
     "data": {
      "text/plain": [
       "array(['Mango', 'PQza', 'ToCall', 'Uxaa', 'Weematel', 'Zintel'], dtype=object)"
      ]
     },
     "execution_count": 56,
     "metadata": {},
     "output_type": "execute_result"
    }
   ],
   "source": [
    "test['Most Loved Competitor network in in Month 2'].unique()"
   ]
  },
  {
   "cell_type": "code",
   "execution_count": 57,
   "metadata": {
    "collapsed": true
   },
   "outputs": [],
   "source": [
    "test = test.replace({'Most Loved Competitor network in in Month 1': {'0': 'PQza'}}) "
   ]
  },
  {
   "cell_type": "code",
   "execution_count": 58,
   "metadata": {},
   "outputs": [
    {
     "data": {
      "text/plain": [
       "array(['Weematel', 'ToCall', 'Uxaa', 'Mango', 'PQza', 'Zintel'], dtype=object)"
      ]
     },
     "execution_count": 58,
     "metadata": {},
     "output_type": "execute_result"
    }
   ],
   "source": [
    "test['Most Loved Competitor network in in Month 1'].unique()"
   ]
  },
  {
   "cell_type": "code",
   "execution_count": 59,
   "metadata": {},
   "outputs": [
    {
     "data": {
      "text/plain": [
       "(600, 13)"
      ]
     },
     "execution_count": 59,
     "metadata": {},
     "output_type": "execute_result"
    }
   ],
   "source": [
    "Xtest = test.iloc[:, 0 : 13].values\n",
    "Xtest.shape"
   ]
  },
  {
   "cell_type": "code",
   "execution_count": 60,
   "metadata": {
    "collapsed": true
   },
   "outputs": [],
   "source": [
    "Xtest[:,9:13]=Xtest[:,9:13].astype(str)\n",
    "\n",
    "#from sklearn.preprocessing import LabelEncoder, OneHotEncoder\n",
    "#labelencoder_X  = LabelEncoder()\n",
    "\n"
   ]
  },
  {
   "cell_type": "code",
   "execution_count": 61,
   "metadata": {
    "collapsed": true
   },
   "outputs": [],
   "source": [
    "from sklearn.preprocessing import LabelEncoder, OneHotEncoder\n",
    "labelencoder_X  = LabelEncoder()\n",
    "\n",
    "\n",
    "Xtest[:, 9] = labelencoder_X.fit_transform(Xtest[:, 9])\n",
    "Xtest[:, 10] = labelencoder_X.fit_transform(Xtest[:, 10])\n",
    "Xtest[:, 11] = labelencoder_X.fit_transform(Xtest[:, 11])\n",
    "Xtest[:, 12] = labelencoder_X.fit_transform(Xtest[:, 12])\n"
   ]
  },
  {
   "cell_type": "code",
   "execution_count": 62,
   "metadata": {},
   "outputs": [
    {
     "data": {
      "text/plain": [
       "(600, 13)"
      ]
     },
     "execution_count": 62,
     "metadata": {},
     "output_type": "execute_result"
    }
   ],
   "source": [
    "Xtest.shape"
   ]
  },
  {
   "cell_type": "code",
   "execution_count": 63,
   "metadata": {
    "collapsed": true
   },
   "outputs": [],
   "source": [
    "#onehotencoder = OneHotEncoder(categorical_features=[10,11,12,13])\n",
    "onehotencoder = OneHotEncoder(categorical_features=[11,12])\n",
    "Xtest = onehotencoder.fit_transform(Xtest).toarray()"
   ]
  },
  {
   "cell_type": "code",
   "execution_count": 64,
   "metadata": {},
   "outputs": [
    {
     "data": {
      "text/plain": [
       "(600, 23)"
      ]
     },
     "execution_count": 64,
     "metadata": {},
     "output_type": "execute_result"
    }
   ],
   "source": [
    "Xtest.shape"
   ]
  },
  {
   "cell_type": "code",
   "execution_count": 65,
   "metadata": {
    "collapsed": true
   },
   "outputs": [],
   "source": [
    "#scale\n",
    "\n",
    "Xtest = sc.transform(Xtest)\n",
    "\n"
   ]
  },
  {
   "cell_type": "code",
   "execution_count": 66,
   "metadata": {},
   "outputs": [
    {
     "data": {
      "text/plain": [
       "array([[ -4.12999470e-01,  -6.09265707e-01,  -4.10626786e-01, ...,\n",
       "         -3.93292084e-01,   2.09279660e-02,  -1.12041811e-03],\n",
       "       [ -4.12999470e-01,  -6.09265707e-01,   2.43530143e+00, ...,\n",
       "          3.01869191e+00,   2.09279660e-02,  -1.12041811e-03],\n",
       "       [ -4.12999470e-01,  -6.09265707e-01,   2.43530143e+00, ...,\n",
       "         -3.93292084e-01,   2.09279660e-02,  -1.12041811e-03],\n",
       "       ..., \n",
       "       [ -4.12999470e-01,  -6.09265707e-01,   2.43530143e+00, ...,\n",
       "         -3.93292084e-01,   2.09279660e-02,  -1.12041811e-03],\n",
       "       [ -4.12999470e-01,   1.64132002e+00,  -4.10626786e-01, ...,\n",
       "         -3.93292084e-01,   2.09279660e-02,  -1.56970578e+00],\n",
       "       [ -4.12999470e-01,  -6.09265707e-01,  -4.10626786e-01, ...,\n",
       "         -3.93292084e-01,  -1.52113269e+00,  -1.56970578e+00]])"
      ]
     },
     "execution_count": 66,
     "metadata": {},
     "output_type": "execute_result"
    }
   ],
   "source": [
    "Xtest"
   ]
  },
  {
   "cell_type": "code",
   "execution_count": 67,
   "metadata": {
    "collapsed": true
   },
   "outputs": [],
   "source": [
    "\n",
    "# Predicting the Test set results\n",
    "y_pred = classifier.predict(Xtest)\n",
    "\n"
   ]
  },
  {
   "cell_type": "code",
   "execution_count": 68,
   "metadata": {
    "collapsed": true
   },
   "outputs": [],
   "source": [
    "\n",
    "y_pred= np.where(y_pred > 0.5, 1, 0)"
   ]
  },
  {
   "cell_type": "code",
   "execution_count": 69,
   "metadata": {
    "collapsed": true
   },
   "outputs": [],
   "source": [
    "predictions = pd.DataFrame(y_pred)"
   ]
  },
  {
   "cell_type": "code",
   "execution_count": 70,
   "metadata": {},
   "outputs": [
    {
     "data": {
      "text/plain": [
       "(600, 1)"
      ]
     },
     "execution_count": 70,
     "metadata": {},
     "output_type": "execute_result"
    }
   ],
   "source": [
    "predictions.shape"
   ]
  },
  {
   "cell_type": "code",
   "execution_count": 71,
   "metadata": {
    "collapsed": true
   },
   "outputs": [],
   "source": [
    "predictions.to_csv('prediction.csv', sep=',')"
   ]
  },
  {
   "cell_type": "code",
   "execution_count": null,
   "metadata": {
    "collapsed": true
   },
   "outputs": [],
   "source": []
  }
 ],
 "metadata": {
  "kernelspec": {
   "display_name": "Python 3",
   "language": "python",
   "name": "python3"
  },
  "language_info": {
   "codemirror_mode": {
    "name": "ipython",
    "version": 3
   },
   "file_extension": ".py",
   "mimetype": "text/x-python",
   "name": "python",
   "nbconvert_exporter": "python",
   "pygments_lexer": "ipython3",
   "version": "3.6.3"
  }
 },
 "nbformat": 4,
 "nbformat_minor": 2
}
